{
 "cells": [
  {
   "cell_type": "code",
   "execution_count": 1,
   "metadata": {},
   "outputs": [
    {
     "name": "stdout",
     "output_type": "stream",
     "text": [
      "6986\n"
     ]
    }
   ],
   "source": [
    "import csv\n",
    "import numpy as np\n",
    "import random\n",
    "from collections import defaultdict\n",
    "\n",
    "query_id_relevant_doc_id = defaultdict(list)\n",
    "with open(\"C:\\\\Users\\\\mapyredd\\\\Documents\\\\marco\\\\data\\\\qrels.dev.tsv\") as fd:\n",
    "    rd = csv.reader(fd, delimiter=\"\\t\")\n",
    "    for row in rd:\n",
    "        query_id = int(row[0])\n",
    "        relevant_doc_id = int(row[2])\n",
    "        query_id_relevant_doc_id[query_id].append(relevant_doc_id)\n",
    "        \n",
    "print (len(query_id_relevant_doc_id))\n"
   ]
  },
  {
   "cell_type": "code",
   "execution_count": 5,
   "metadata": {},
   "outputs": [
    {
     "ename": "KeyboardInterrupt",
     "evalue": "",
     "output_type": "error",
     "traceback": [
      "\u001b[1;31m---------------------------------------------------------------------------\u001b[0m",
      "\u001b[1;31mKeyboardInterrupt\u001b[0m                         Traceback (most recent call last)",
      "\u001b[1;32m<ipython-input-5-459289c6221a>\u001b[0m in \u001b[0;36m<module>\u001b[1;34m()\u001b[0m\n\u001b[0;32m      6\u001b[0m \u001b[0mrd\u001b[0m \u001b[1;33m=\u001b[0m \u001b[0mcsv\u001b[0m\u001b[1;33m.\u001b[0m\u001b[0mreader\u001b[0m\u001b[1;33m(\u001b[0m\u001b[0mfr\u001b[0m\u001b[1;33m,\u001b[0m \u001b[0mdelimiter\u001b[0m\u001b[1;33m=\u001b[0m\u001b[1;34m'\\t'\u001b[0m\u001b[1;33m)\u001b[0m\u001b[1;33m\u001b[0m\u001b[0m\n\u001b[0;32m      7\u001b[0m \u001b[0msamples\u001b[0m \u001b[1;33m=\u001b[0m \u001b[0mdefaultdict\u001b[0m\u001b[1;33m(\u001b[0m\u001b[0mlist\u001b[0m\u001b[1;33m)\u001b[0m\u001b[1;33m\u001b[0m\u001b[0m\n\u001b[1;32m----> 8\u001b[1;33m \u001b[1;32mfor\u001b[0m \u001b[0mrow\u001b[0m \u001b[1;32min\u001b[0m \u001b[0mrd\u001b[0m\u001b[1;33m:\u001b[0m\u001b[1;33m\u001b[0m\u001b[0m\n\u001b[0m\u001b[0;32m      9\u001b[0m     \u001b[0mquery_id\u001b[0m \u001b[1;33m=\u001b[0m \u001b[0mint\u001b[0m\u001b[1;33m(\u001b[0m\u001b[0mrow\u001b[0m\u001b[1;33m[\u001b[0m\u001b[1;36m0\u001b[0m\u001b[1;33m]\u001b[0m\u001b[1;33m)\u001b[0m\u001b[1;33m\u001b[0m\u001b[0m\n\u001b[0;32m     10\u001b[0m     \u001b[0mdoc_id\u001b[0m \u001b[1;33m=\u001b[0m \u001b[0mint\u001b[0m\u001b[1;33m(\u001b[0m\u001b[0mrow\u001b[0m\u001b[1;33m[\u001b[0m\u001b[1;36m1\u001b[0m\u001b[1;33m]\u001b[0m\u001b[1;33m)\u001b[0m\u001b[1;33m\u001b[0m\u001b[0m\n",
      "\u001b[1;32m~\\AppData\\Local\\Continuum\\anaconda2\\envs\\deeplearning\\lib\\codecs.py\u001b[0m in \u001b[0;36mdecode\u001b[1;34m(self, input, final)\u001b[0m\n\u001b[0;32m    316\u001b[0m         \u001b[1;32mraise\u001b[0m \u001b[0mNotImplementedError\u001b[0m\u001b[1;33m\u001b[0m\u001b[0m\n\u001b[0;32m    317\u001b[0m \u001b[1;33m\u001b[0m\u001b[0m\n\u001b[1;32m--> 318\u001b[1;33m     \u001b[1;32mdef\u001b[0m \u001b[0mdecode\u001b[0m\u001b[1;33m(\u001b[0m\u001b[0mself\u001b[0m\u001b[1;33m,\u001b[0m \u001b[0minput\u001b[0m\u001b[1;33m,\u001b[0m \u001b[0mfinal\u001b[0m\u001b[1;33m=\u001b[0m\u001b[1;32mFalse\u001b[0m\u001b[1;33m)\u001b[0m\u001b[1;33m:\u001b[0m\u001b[1;33m\u001b[0m\u001b[0m\n\u001b[0m\u001b[0;32m    319\u001b[0m         \u001b[1;31m# decode input (taking the buffer into account)\u001b[0m\u001b[1;33m\u001b[0m\u001b[1;33m\u001b[0m\u001b[0m\n\u001b[0;32m    320\u001b[0m         \u001b[0mdata\u001b[0m \u001b[1;33m=\u001b[0m \u001b[0mself\u001b[0m\u001b[1;33m.\u001b[0m\u001b[0mbuffer\u001b[0m \u001b[1;33m+\u001b[0m \u001b[0minput\u001b[0m\u001b[1;33m\u001b[0m\u001b[0m\n",
      "\u001b[1;31mKeyboardInterrupt\u001b[0m: "
     ]
    }
   ],
   "source": [
    "query_id_sample_id = defaultdict(list)\n",
    "length = 8841823\n",
    "count = 0\n",
    "\n",
    "fr = open(\"C:\\\\Users\\\\mapyredd\\\\Documents\\\\marco\\\\data\\\\top1000.dev.tsv\", encoding=\"UTF8\")\n",
    "rd = csv.reader(fr, delimiter='\\t')\n",
    "samples = defaultdict(list)\n",
    "for row in rd:\n",
    "    query_id = int(row[0])\n",
    "    doc_id = int(row[1])\n",
    "    if query_id_relevant_doc_id.get(query_id) != None and doc_id not in query_id_relevant_doc_id.get(query_id):\n",
    "        samples[query_id].append(doc_id)\n",
    "\n",
    "print (len(query_id_sample_id))"
   ]
  },
  {
   "cell_type": "code",
   "execution_count": null,
   "metadata": {},
   "outputs": [],
   "source": [
    "fw = open( \"C:\\\\Users\\\\mapyredd\\\\Documents\\\\marco\\\\data\\\\RandomNegDocSamplesDev.tsv\", \"w\" )\n",
    "for query_id, doc_ids in query_id_sample_id.items():\n",
    "    fw.write(str(query_id) + \"\\t\" + \",\".join(str(x) for x in doc_ids[0]) + \"\\n\")"
   ]
  },
  {
   "cell_type": "code",
   "execution_count": null,
   "metadata": {},
   "outputs": [],
   "source": [
    "import pickle\n",
    "\n",
    "with open(\"C:\\\\Users\\\\mapyredd\\\\Documents\\\\marco\\\\data\\\\model\\\\bm25.pkl\", 'rb') as fr:\n",
    "    bm25 = pickle.load(fr)"
   ]
  },
  {
   "cell_type": "code",
   "execution_count": null,
   "metadata": {},
   "outputs": [],
   "source": [
    "import sys\n",
    "from importlib import reload\n",
    "import logging\n",
    "import csv\n",
    "from nltk.stem.porter import PorterStemmer\n",
    "import string\n",
    "import gensim\n",
    "import pickle\n",
    "from gensim.summarization.bm25 import BM25\n",
    "\n",
    "\n",
    "porterStemmer = PorterStemmer()\n",
    "logging.basicConfig(format='%(asctime)s : %(levelname)s : %(message)s', level=logging.INFO)\n",
    "\n",
    "def removeNonAscii(s):\n",
    "    return \"\".join(filter(lambda x:ord(x) < 128, s))\n",
    "\n",
    "\n",
    "def preprocess(passage):\n",
    "    clean_passage = passage.lower()\n",
    "    clean_passage = removeNonAscii(clean_passage)\n",
    "    clean_passage = clean_passage.translate(str.maketrans('', '', string.punctuation)) \n",
    "    \n",
    "    clean_passage_list = clean_passage.split()\n",
    "    clean_passage_list_stem = []\n",
    "    for word in clean_passage_list:\n",
    "        if word not in gensim.parsing.preprocessing.STOPWORDS:\n",
    "            clean_passage_list_stem.append(porterStemmer.stem(word))\n",
    "    return clean_passage_list_stem\n"
   ]
  },
  {
   "cell_type": "code",
   "execution_count": null,
   "metadata": {},
   "outputs": [],
   "source": [
    "import csv\n",
    "from collections import defaultdict\n",
    "\n",
    "\n",
    "average_idf = sum(map(lambda k: float(bm25.idf[k]), bm25.idf.keys())) / len(bm25.idf.keys())\n",
    "\n",
    "query_file = open(\"C:\\\\Users\\\\mapyredd\\\\Documents\\\\marco\\\\data\\\\queries.dev.tsv\",encoding='utf-8')\n",
    "query_reader = csv.reader(query_file, delimiter = \"\\t\")\n",
    "\n",
    "queryid_text_dict = defaultdict(str)\n",
    "for row in query_reader:\n",
    "    queryid_text_dict[int(row[0])] = preprocess(row[1])\n",
    "    \n",
    "print (len(queryid_text_dict))"
   ]
  },
  {
   "cell_type": "code",
   "execution_count": null,
   "metadata": {},
   "outputs": [],
   "source": [
    "sample_doc_ids = open(\"C:\\\\Users\\\\mapyredd\\\\Documents\\\\marco\\\\data\\\\RandomNegDocSamplesDev.tsv\")\n",
    "sample_reader = csv.reader(sample_doc_ids, delimiter='\\t')\n",
    "\n",
    "count = 0\n",
    "qrel_nonrelevant_file = open(\"C:\\\\Users\\\\mapyredd\\\\Documents\\\\marco\\\\data\\\\qrels_nr.dev.tsv\",'w')\n",
    "for row in sample_reader:\n",
    "    query_id = int(row[0])\n",
    "    docid_scores = []\n",
    "    query_text = queryid_text_dict[query_id]\n",
    "    doc_ids = row[1].split(',')\n",
    "    for doc_id in doc_ids:\n",
    "        score = bm25.get_score(query_text, int(doc_id), average_idf)\n",
    "        docid_scores.append((int(doc_id), score))\n",
    "    docid_scores = sorted(docid_scores, key=lambda x:x[1], reverse=True)[:15]\n",
    "\n",
    "    for doc_score in docid_scores:\n",
    "        qrel_nonrelevant_file.write(str(query_id) + \"\\t\" + \"0\" + \"\\t\" + str(doc_score[0]) + \"\\t\" + \"0\" + \"\\n\")\n",
    "    count += 1\n",
    "    if count %1000 == 0:\n",
    "        print (count)"
   ]
  }
 ],
 "metadata": {
  "kernelspec": {
   "display_name": "Python 3",
   "language": "python",
   "name": "python3"
  },
  "language_info": {
   "codemirror_mode": {
    "name": "ipython",
    "version": 3
   },
   "file_extension": ".py",
   "mimetype": "text/x-python",
   "name": "python",
   "nbconvert_exporter": "python",
   "pygments_lexer": "ipython3",
   "version": "3.6.5"
  }
 },
 "nbformat": 4,
 "nbformat_minor": 2
}
