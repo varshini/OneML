{
 "cells": [
  {
   "cell_type": "code",
   "execution_count": null,
   "metadata": {},
   "outputs": [],
   "source": [
    "import csv\n",
    "\n",
    "top1000 =  open(\"C:\\\\Users\\\\mapyredd\\\\Documents\\\\marco\\\\data\\\\top1000.eval.tsv\", \"r\", encoding=\"UTF8\")\n",
    "top1000_reader = csv.reader(top1000, delimiter = '\\t')\n",
    "\n",
    "scorefile = open(\"C:\\\\Users\\\\mapyredd\\\\Documents\\\\marco\\\\data\\\\output\\\\knrm_glove_lr_0005.scores\", \"r\")\n",
    "outputfile = open(\"C:\\\\Users\\\\mapyredd\\\\Documents\\\\marco\\\\data\\\\output\\\\knrm_glove_lr_0005.scores.trec\", \"w\")\n",
    "\n",
    "for row1, row2 in zip(top1000_reader, scorefile.readlines()):\n",
    "    qid = int(row1[0])\n",
    "    docid = int(row1[1])\n",
    "    score = float(row2.strip())\n",
    "    row = str(qid) + \"\\t\" + str(docid) + \"\\t\" + str(score) + \"\\n\"\n",
    "outputfile.close()"
   ]
  }
 ],
 "metadata": {
  "kernelspec": {
   "display_name": "Python 3",
   "language": "python",
   "name": "python3"
  },
  "language_info": {
   "codemirror_mode": {
    "name": "ipython",
    "version": 3
   },
   "file_extension": ".py",
   "mimetype": "text/x-python",
   "name": "python",
   "nbconvert_exporter": "python",
   "pygments_lexer": "ipython3",
   "version": "3.6.5"
  }
 },
 "nbformat": 4,
 "nbformat_minor": 2
}
