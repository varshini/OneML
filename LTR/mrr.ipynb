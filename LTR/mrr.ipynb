{
 "cells": [
  {
   "cell_type": "code",
   "execution_count": 7,
   "metadata": {},
   "outputs": [],
   "source": [
    "import csv\n",
    "from collections import defaultdict\n",
    "\n",
    "outputFile = open(\"C:\\\\Users\\\\mapyredd\\\\Documents\\\\marco\\\\data\\\\output\\\\LTR_15.dev.tsv\")\n",
    "qrelFile = open(\"C:\\\\Users\\\\mapyredd\\\\Documents\\\\marco\\\\data\\\\qrels.dev.tsv\")\n",
    "o_reader = csv.reader(outputFile, delimiter=\"\\t\")\n",
    "qrel_reader = csv.reader(qrelFile, delimiter=\"\\t\")\n",
    "\n",
    "qrels = defaultdict(list)\n",
    "for row in qrel_reader:\n",
    "    qrels[int(row[0])].append(int(row[2]))\n",
    "\n",
    "output = defaultdict(list)\n",
    "for row in o_reader:\n",
    "    output[int(row[0])].append(int(row[1]))\n",
    "\n",
    "queries = len(output.keys())\n",
    "mrr = 0.\n",
    "for qid, docids in qrels.items():\n",
    "    pred_docids = output[qid]\n",
    "    rank = 20000\n",
    "    for docid in docids:\n",
    "        try:\n",
    "            index = pred_docids.index(docid)\n",
    "            rank = min(rank, index+1)\n",
    "        except:\n",
    "            continue\n",
    "    if rank < 20000:\n",
    "        mrr += 1./rank\n",
    "mrr = mrr/queries"
   ]
  },
  {
   "cell_type": "code",
   "execution_count": 8,
   "metadata": {},
   "outputs": [
    {
     "name": "stdout",
     "output_type": "stream",
     "text": [
      "0.21060993869825737\n"
     ]
    }
   ],
   "source": [
    "print(mrr)"
   ]
  },
  {
   "cell_type": "code",
   "execution_count": null,
   "metadata": {},
   "outputs": [],
   "source": []
  }
 ],
 "metadata": {
  "kernelspec": {
   "display_name": "Python 3",
   "language": "python",
   "name": "python3"
  },
  "language_info": {
   "codemirror_mode": {
    "name": "ipython",
    "version": 3
   },
   "file_extension": ".py",
   "mimetype": "text/x-python",
   "name": "python",
   "nbconvert_exporter": "python",
   "pygments_lexer": "ipython3",
   "version": "3.6.5"
  }
 },
 "nbformat": 4,
 "nbformat_minor": 2
}
