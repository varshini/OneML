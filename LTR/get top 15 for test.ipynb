{
 "cells": [
  {
   "cell_type": "code",
   "execution_count": 2,
   "metadata": {},
   "outputs": [],
   "source": [
    "import csv\n",
    "import pickle\n",
    "from collections import defaultdict"
   ]
  },
  {
   "cell_type": "code",
   "execution_count": 3,
   "metadata": {},
   "outputs": [
    {
     "name": "stderr",
     "output_type": "stream",
     "text": [
      "C:\\Users\\mapyredd\\AppData\\Local\\Continuum\\anaconda2\\envs\\deeplearning\\lib\\site-packages\\gensim\\utils.py:1197: UserWarning: detected Windows; aliasing chunkize to chunkize_serial\n",
      "  warnings.warn(\"detected Windows; aliasing chunkize to chunkize_serial\")\n"
     ]
    }
   ],
   "source": [
    "with open(\"C:\\\\Users\\\\mapyredd\\\\Documents\\\\marco\\\\data\\\\model\\\\bm25.pkl\", 'rb') as fr:\n",
    "    bm25 = pickle.load(fr)"
   ]
  },
  {
   "cell_type": "code",
   "execution_count": 10,
   "metadata": {},
   "outputs": [],
   "source": [
    "import sys\n",
    "from importlib import reload\n",
    "import logging\n",
    "import csv\n",
    "from nltk.stem.porter import PorterStemmer\n",
    "import string\n",
    "import gensim\n",
    "import pickle\n",
    "from gensim.summarization.bm25 import BM25\n",
    "\n",
    "\n",
    "porterStemmer = PorterStemmer()\n",
    "logging.basicConfig(format='%(asctime)s : %(levelname)s : %(message)s', level=logging.INFO)\n",
    "\n",
    "def removeNonAscii(s):\n",
    "    return \"\".join(filter(lambda x:ord(x) < 128, s))\n",
    "\n",
    "\n",
    "def preprocess(passage):\n",
    "    clean_passage = passage.lower()\n",
    "    clean_passage = removeNonAscii(clean_passage)\n",
    "    clean_passage = clean_passage.translate(str.maketrans('', '', string.punctuation)) \n",
    "    \n",
    "    clean_passage_list = clean_passage.split()\n",
    "    clean_passage_list_stem = []\n",
    "    for word in clean_passage_list:\n",
    "        if word not in gensim.parsing.preprocessing.STOPWORDS:\n",
    "            clean_passage_list_stem.append(porterStemmer.stem(word))\n",
    "    return clean_passage_list_stem\n"
   ]
  },
  {
   "cell_type": "code",
   "execution_count": 11,
   "metadata": {},
   "outputs": [
    {
     "name": "stdout",
     "output_type": "stream",
     "text": [
      "12560\n"
     ]
    }
   ],
   "source": [
    "\n",
    "query_file = open(\"C:\\\\Users\\\\mapyredd\\\\Documents\\\\marco\\\\data\\\\queries.eval.tsv\",encoding='utf-8')\n",
    "query_reader = csv.reader(query_file, delimiter = \"\\t\")\n",
    "\n",
    "queryid_text_dict = defaultdict(str)\n",
    "for row in query_reader:\n",
    "    queryid_text_dict[int(row[0])] = row[1]\n",
    "    \n",
    "print (len(queryid_text_dict))"
   ]
  },
  {
   "cell_type": "code",
   "execution_count": 6,
   "metadata": {
    "scrolled": true
   },
   "outputs": [
    {
     "name": "stdout",
     "output_type": "stream",
     "text": [
      "100000\n",
      "200000\n",
      "300000\n",
      "400000\n",
      "500000\n",
      "600000\n",
      "700000\n",
      "800000\n",
      "900000\n",
      "1000000\n",
      "1100000\n",
      "1200000\n",
      "1300000\n",
      "1400000\n",
      "1500000\n",
      "1600000\n",
      "1700000\n",
      "1800000\n",
      "1900000\n",
      "2000000\n",
      "2100000\n",
      "2200000\n",
      "2300000\n",
      "2400000\n",
      "2500000\n",
      "2600000\n",
      "2700000\n",
      "2800000\n",
      "2900000\n",
      "3000000\n",
      "3100000\n",
      "3200000\n",
      "3300000\n",
      "3400000\n",
      "3500000\n",
      "3600000\n",
      "3700000\n",
      "3800000\n",
      "3900000\n",
      "4000000\n",
      "4100000\n",
      "4200000\n",
      "4300000\n",
      "4400000\n",
      "4500000\n",
      "4600000\n",
      "4700000\n",
      "4800000\n",
      "4900000\n",
      "5000000\n",
      "5100000\n",
      "5200000\n",
      "5300000\n",
      "5400000\n",
      "5500000\n",
      "5600000\n",
      "5700000\n",
      "5800000\n",
      "5900000\n",
      "6000000\n",
      "6100000\n",
      "6200000\n",
      "6300000\n",
      "6400000\n",
      "6500000\n",
      "0\n"
     ]
    }
   ],
   "source": [
    "count = 0\n",
    "\n",
    "fr = open(\"C:\\\\Users\\\\mapyredd\\\\Documents\\\\marco\\\\data\\\\top1000.eval.tsv\", encoding=\"UTF8\")\n",
    "rd = csv.reader(fr, delimiter='\\t')\n",
    "query_id_doc_id = defaultdict(list)\n",
    "for row in rd:\n",
    "    query_id = int(row[0])\n",
    "    doc_id = int(row[1])\n",
    "    query_id_doc_id[query_id].append(doc_id)\n",
    "    count += 1\n",
    "    if count % 100000 == 0:\n",
    "        print(count)\n",
    "\n",
    "    "
   ]
  },
  {
   "cell_type": "code",
   "execution_count": 13,
   "metadata": {},
   "outputs": [
    {
     "name": "stdout",
     "output_type": "stream",
     "text": [
      "1000\n",
      "2000\n",
      "3000\n",
      "4000\n",
      "5000\n",
      "6000\n"
     ]
    }
   ],
   "source": [
    "average_idf = sum(map(lambda k: float(bm25.idf[k]), bm25.idf.keys())) / len(bm25.idf.keys())\n",
    "count = 0\n",
    "\n",
    "qrel_top_file = open(\"C:\\\\Users\\\\mapyredd\\\\Documents\\\\marco\\\\data\\\\top15.eval.tsv\",'w')\n",
    "for query_id, doc_ids in query_id_doc_id.items():\n",
    "    docid_scores = []\n",
    "    query_text = preprocess(queryid_text_dict[query_id])\n",
    "    for doc_id in doc_ids:\n",
    "        score = bm25.get_score(query_text, int(doc_id), average_idf)\n",
    "        docid_scores.append((int(doc_id), score))\n",
    "    docid_scores = sorted(docid_scores, key=lambda x:x[1], reverse=True)[:15]\n",
    "\n",
    "    for doc_score in docid_scores:\n",
    "        qrel_top_file.write(str(query_id) + \"\\t\" + str(doc_score[0]) + \"\\t\" + queryid_text_dict[query_id] + \"\\n\")\n",
    "    count += 1\n",
    "    if count %1000 == 0:\n",
    "        print (count)"
   ]
  },
  {
   "cell_type": "code",
   "execution_count": null,
   "metadata": {},
   "outputs": [],
   "source": []
  }
 ],
 "metadata": {
  "kernelspec": {
   "display_name": "Python 3",
   "language": "python",
   "name": "python3"
  },
  "language_info": {
   "codemirror_mode": {
    "name": "ipython",
    "version": 3
   },
   "file_extension": ".py",
   "mimetype": "text/x-python",
   "name": "python",
   "nbconvert_exporter": "python",
   "pygments_lexer": "ipython3",
   "version": "3.6.5"
  }
 },
 "nbformat": 4,
 "nbformat_minor": 2
}
