{
 "cells": [
  {
   "cell_type": "code",
   "execution_count": 2,
   "metadata": {},
   "outputs": [],
   "source": [
    "from collections import defaultdict\n",
    "\n",
    "query_id_scores = defaultdict(list)\n",
    "fr1 = open(\"C:\\\\Users\\\\mapyredd\\\\Documents\\\\marco\\\\data\\\\LTR\\\\eval.features\")\n",
    "fr2 = open(\"C:\\\\Users\\\\mapyredd\\\\Documents\\\\marco\\\\data\\\\model\\\\LTR.test.Predictions\")\n",
    "for row1, row2 in zip(fr1.readlines(), fr2.readlines()):\n",
    "    if row1 == \"\" and row2 == \"\":\n",
    "        continue\n",
    "    data = row1.split()\n",
    "    pred = float(row2)\n",
    "    try:\n",
    "        qid = int(data[1].split(\":\")[1])\n",
    "        docid = int(data[-1].split(\"#\")[1])\n",
    "    except:\n",
    "        import pdb;pdb.set_trace()\n",
    "\n",
    "    query_id_scores[qid].append((docid, pred))"
   ]
  },
  {
   "cell_type": "code",
   "execution_count": 5,
   "metadata": {},
   "outputs": [
    {
     "data": {
      "text/plain": [
       "6837"
      ]
     },
     "execution_count": 5,
     "metadata": {},
     "output_type": "execute_result"
    }
   ],
   "source": [
    "len(query_id_scores.keys())"
   ]
  },
  {
   "cell_type": "code",
   "execution_count": 6,
   "metadata": {},
   "outputs": [
    {
     "name": "stdout",
     "output_type": "stream",
     "text": [
      "68203\n"
     ]
    }
   ],
   "source": [
    "outputFile = \"C:\\\\Users\\\\mapyredd\\\\Documents\\\\marco\\\\data\\\\output\\\\LTR.eval.tsv\"\n",
    "fw = open(outputFile, \"w\")\n",
    "count_qid = 0\n",
    "for query_id in query_id_scores.keys():\n",
    "    query_id_scores[query_id] = sorted(query_id_scores[query_id], key=lambda x:x[1], reverse=True)[:10]\n",
    "    count = 1\n",
    "    for doc_id, score in query_id_scores[query_id]:\n",
    "        fw.write(str(query_id) + \"\\t\" + str(doc_id) + \"\\t\" + str(count) + \"\\n\")\n",
    "        count += 1\n",
    "        count_qid += 1\n",
    "print (count_qid)"
   ]
  },
  {
   "cell_type": "code",
   "execution_count": null,
   "metadata": {},
   "outputs": [],
   "source": []
  }
 ],
 "metadata": {
  "kernelspec": {
   "display_name": "Python 3",
   "language": "python",
   "name": "python3"
  },
  "language_info": {
   "codemirror_mode": {
    "name": "ipython",
    "version": 3
   },
   "file_extension": ".py",
   "mimetype": "text/x-python",
   "name": "python",
   "nbconvert_exporter": "python",
   "pygments_lexer": "ipython3",
   "version": "3.6.5"
  }
 },
 "nbformat": 4,
 "nbformat_minor": 2
}
