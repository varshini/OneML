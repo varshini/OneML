{
 "cells": [
  {
   "cell_type": "code",
   "execution_count": null,
   "metadata": {},
   "outputs": [],
   "source": [
    "from collections import defaultdict\n",
    "qrels = defaultdict(list)\n",
    "with open(\"C:\\\\Users\\\\mapyredd\\\\Documents\\\\marco\\\\data\\\\qrels.dev.tsv\") as fr:\n",
    "    reader = csv.reader(fr, delimiter=\"\\t\")\n",
    "    for row in reader:\n",
    "        qrels[int(row[0])].append(int(row[2]))"
   ]
  },
  {
   "cell_type": "code",
   "execution_count": null,
   "metadata": {},
   "outputs": [],
   "source": [
    "qpred = defaultdict(list)\n",
    "fr1 = open(\"C:\\\\Users\\\\mapyredd\\\\Documents\\\\marco\\\\data\\\\model\\\\dev.features\")\n",
    "fr2 = open(\"C:\\\\Users\\\\mapyredd\\\\Documents\\\\marco\\\\data\\\\model\\\\LTRPredictions\")\n",
    "for row1, row2 in zip(fr1.readlines(), fr2.readlines()):\n",
    "    if row1 == \"\" and row2 == \"\":\n",
    "        continue\n",
    "    data = row1.split()\n",
    "    pred = float(row2)\n",
    "    qpred[int(data[1].split(\":\")[1])].append(int(data[-1].split(\"#\")[1]), pred)\n",
    "    qpred.append)"
   ]
  },
  {
   "cell_type": "code",
   "execution_count": null,
   "metadata": {},
   "outputs": [],
   "source": [
    "qpred = sorted(qpred)\n",
    "mrr = 0.\n",
    "for i in range(len(qpred)):\n",
    "    "
   ]
  }
 ],
 "metadata": {
  "kernelspec": {
   "display_name": "Python 3",
   "language": "python",
   "name": "python3"
  },
  "language_info": {
   "codemirror_mode": {
    "name": "ipython",
    "version": 3
   },
   "file_extension": ".py",
   "mimetype": "text/x-python",
   "name": "python",
   "nbconvert_exporter": "python",
   "pygments_lexer": "ipython3",
   "version": "3.6.5"
  }
 },
 "nbformat": 4,
 "nbformat_minor": 2
}
