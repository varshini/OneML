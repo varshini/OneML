{
 "cells": [
  {
   "cell_type": "code",
   "execution_count": 1,
   "metadata": {},
   "outputs": [
    {
     "name": "stderr",
     "output_type": "stream",
     "text": [
      "C:\\Users\\mapyredd\\AppData\\Local\\Continuum\\anaconda2\\envs\\deeplearning\\lib\\site-packages\\gensim\\utils.py:1197: UserWarning: detected Windows; aliasing chunkize to chunkize_serial\n",
      "  warnings.warn(\"detected Windows; aliasing chunkize to chunkize_serial\")\n"
     ]
    }
   ],
   "source": [
    "from gensim import corpora\n",
    "\n",
    "dictionary = corpora.Dictionary.load(\"C:\\\\Users\\\\mapyredd\\\\Documents\\\\marco\\\\data\\\\collection_cleaned_nostemming_pruned.dict\")"
   ]
  },
  {
   "cell_type": "code",
   "execution_count": 2,
   "metadata": {
    "scrolled": true
   },
   "outputs": [
    {
     "data": {
      "text/plain": [
       "0"
      ]
     },
     "execution_count": 2,
     "metadata": {},
     "output_type": "execute_result"
    }
   ],
   "source": [
    "len(dictionary)\n",
    "dictionary.token2id[\"achievement\"]"
   ]
  },
  {
   "cell_type": "code",
   "execution_count": 3,
   "metadata": {},
   "outputs": [],
   "source": [
    "# embeddings_in = \"C:\\\\Users\\\\mapyredd\\\\Documents\\\\marco\\\\data\\\\desm\\\\in.txt\"\n",
    "# embeddings_write = \"C:\\\\Users\\\\mapyredd\\\\Documents\\\\marco\\\\data\\\\KNRM\\\\embed_in.txt\"\n",
    "embeddings_in = \"C:\\\\Users\\\\mapyredd\\\\Documents\\\\marco\\\\data\\\\glove.840B.300d\\\\glove.840B.300d.txt\"\n",
    "embeddings_write = \"C:\\\\Users\\\\mapyredd\\\\Documents\\\\marco\\\\data\\\\KNRM\\\\glove.840B.300d.txt\"\n",
    "f = open(embeddings_in, 'r', encoding=\"UTF8\")\n",
    "fw = open(embeddings_write, 'w')\n",
    "\n",
    "for row in f.readlines():\n",
    "    data = row.split()\n",
    "    if data == [] or len(data) > 301:\n",
    "        continue\n",
    "    if dictionary.token2id.get(data[0]) != None:\n",
    "        data[0] = str(dictionary.token2id[data[0]]+1)\n",
    "        fw.write(\"\\t\".join(data) + \"\\n\")\n",
    "    else:\n",
    "        continue"
   ]
  },
  {
   "cell_type": "code",
   "execution_count": null,
   "metadata": {},
   "outputs": [],
   "source": []
  }
 ],
 "metadata": {
  "kernelspec": {
   "display_name": "Python 3",
   "language": "python",
   "name": "python3"
  },
  "language_info": {
   "codemirror_mode": {
    "name": "ipython",
    "version": 3
   },
   "file_extension": ".py",
   "mimetype": "text/x-python",
   "name": "python",
   "nbconvert_exporter": "python",
   "pygments_lexer": "ipython3",
   "version": "3.6.5"
  }
 },
 "nbformat": 4,
 "nbformat_minor": 2
}
