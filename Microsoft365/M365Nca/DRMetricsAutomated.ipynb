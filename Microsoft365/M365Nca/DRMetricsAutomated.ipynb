{
 "cells": [
  {
   "cell_type": "code",
   "execution_count": 9,
   "metadata": {},
   "outputs": [
    {
     "ename": "Error",
     "evalue": "('FA001', '[FA001] [Microsoft][ODBC Driver 13 for SQL Server]Cannot use Authentication option with Integrated Security option. (0) (SQLDriverConnect); [FA001] [Microsoft][ODBC Driver 13 for SQL Server]Invalid connection string attribute (0); [FA001] [Microsoft][ODBC Driver 13 for SQL Server]Invalid connection string attribute (0); [FA001] [Microsoft][ODBC Driver 13 for SQL Server]Cannot use Authentication option with Integrated Security option. (0)')",
     "output_type": "error",
     "traceback": [
      "\u001b[1;31m---------------------------------------------------------------------------\u001b[0m",
      "\u001b[1;31mError\u001b[0m                                     Traceback (most recent call last)",
      "\u001b[1;32m<ipython-input-9-353da287cdcb>\u001b[0m in \u001b[0;36m<module>\u001b[1;34m()\u001b[0m\n\u001b[0;32m      1\u001b[0m \u001b[1;32mimport\u001b[0m \u001b[0mpyodbc\u001b[0m\u001b[1;33m\u001b[0m\u001b[0m\n\u001b[1;32m----> 2\u001b[1;33m conn = pyodbc.connect('Driver={ODBC Driver 13 for SQL Server};'\n\u001b[0m\u001b[0;32m      3\u001b[0m                       \u001b[1;34m'Server=tsc-reporting.database.windows.net;'\u001b[0m\u001b[1;33m\u001b[0m\u001b[0m\n\u001b[0;32m      4\u001b[0m                       \u001b[1;34m'Database=tsc-businessmetrics;'\u001b[0m\u001b[1;33m\u001b[0m\u001b[0m\n\u001b[0;32m      5\u001b[0m                       \u001b[1;34m'Trusted_Connection=yes;'\u001b[0m\u001b[1;33m\u001b[0m\u001b[0m\n",
      "\u001b[1;31mError\u001b[0m: ('FA001', '[FA001] [Microsoft][ODBC Driver 13 for SQL Server]Cannot use Authentication option with Integrated Security option. (0) (SQLDriverConnect); [FA001] [Microsoft][ODBC Driver 13 for SQL Server]Invalid connection string attribute (0); [FA001] [Microsoft][ODBC Driver 13 for SQL Server]Invalid connection string attribute (0); [FA001] [Microsoft][ODBC Driver 13 for SQL Server]Cannot use Authentication option with Integrated Security option. (0)')"
     ]
    }
   ],
   "source": [
    "import pyodbc \n",
    "conn = pyodbc.connect('Driver={ODBC Driver 13 for SQL Server};'\n",
    "                      'Server=tsc-reporting.database.windows.net;'\n",
    "                      'Database=tsc-businessmetrics;'\n",
    "                      'Trusted_Connection=yes;'\n",
    "                      'Authentication=ActiveDirectoryPassword;'\n",
    "                      'UID = varamase;'\n",
    "                      'PWD = Varsh&6789;')\n",
    "\n",
    "# cursor = conn.cursor()\n",
    "# cursor.execute('SELECT * FROM db_name.Table')\n",
    "\n",
    "# for row in cursor:\n",
    "#     print(row)"
   ]
  }
 ],
 "metadata": {
  "kernelspec": {
   "display_name": "Python 3",
   "language": "python",
   "name": "python3"
  },
  "language_info": {
   "codemirror_mode": {
    "name": "ipython",
    "version": 3
   },
   "file_extension": ".py",
   "mimetype": "text/x-python",
   "name": "python",
   "nbconvert_exporter": "python",
   "pygments_lexer": "ipython3",
   "version": "3.6.4"
  }
 },
 "nbformat": 4,
 "nbformat_minor": 2
}
