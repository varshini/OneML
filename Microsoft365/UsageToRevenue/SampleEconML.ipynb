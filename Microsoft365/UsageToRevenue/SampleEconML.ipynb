{
 "cells": [
  {
   "cell_type": "code",
   "execution_count": 1,
   "metadata": {},
   "outputs": [
    {
     "name": "stderr",
     "output_type": "stream",
     "text": [
      "C:\\Users\\varamase\\AppData\\Local\\Continuum\\anaconda3\\lib\\site-packages\\sklearn\\utils\\deprecation.py:144: FutureWarning: The sklearn.ensemble.forest module is  deprecated in version 0.22 and will be removed in version 0.24. The corresponding classes / functions should instead be imported from sklearn.ensemble. Anything that cannot be imported from sklearn.ensemble is now part of the private API.\n",
      "  warnings.warn(message, FutureWarning)\n"
     ]
    }
   ],
   "source": [
    "from econml.dml import LinearDML\n",
    "from sklearn.linear_model import LassoCV"
   ]
  },
  {
   "cell_type": "code",
   "execution_count": 2,
   "metadata": {},
   "outputs": [],
   "source": [
    "import pandas as pd\n",
    "df = pd.read_csv(r'C:\\Users\\varamase\\OneDrive - Microsoft\\UsageToRevenue\\Licenses.csv')"
   ]
  },
  {
   "cell_type": "code",
   "execution_count": 3,
   "metadata": {},
   "outputs": [],
   "source": [
    "df_122020 = df[df['Date'] == '12/31/2020 12:00:00 AM']\n",
    "df.fillna(0,inplace=True)"
   ]
  },
  {
   "cell_type": "code",
   "execution_count": 4,
   "metadata": {},
   "outputs": [],
   "source": [
    "#Outcome - M365E5Seats, Treatment - M365E3Seats, confounders - rest\n",
    "#Single Treatment, Single Outcome\n",
    "Y = df[['M365E5Seats']]\n",
    "T = df[['M365E3Seats']]\n",
    "X = df.drop(columns = ['TPID', 'Date', 'M365E5Seats', 'M365E3Seats'])"
   ]
  },
  {
   "cell_type": "code",
   "execution_count": 5,
   "metadata": {},
   "outputs": [],
   "source": [
    "from sklearn.model_selection import train_test_split\n",
    "Y_train, Y_val, T_train, T_val, X_train, X_val = train_test_split(Y, T, X, test_size=.2)"
   ]
  },
  {
   "cell_type": "code",
   "execution_count": null,
   "metadata": {
    "scrolled": true
   },
   "outputs": [
    {
     "name": "stderr",
     "output_type": "stream",
     "text": [
      "C:\\Users\\varamase\\AppData\\Local\\Continuum\\anaconda3\\lib\\site-packages\\econml\\utilities.py:821: DataConversionWarning: A column-vector y was passed when a 1d array was expected. Please change the shape of y to (n_samples,), for example using ravel().\n",
      "  return model.fit(X, y, **kwargs)\n",
      "C:\\Users\\varamase\\AppData\\Local\\Continuum\\anaconda3\\lib\\site-packages\\econml\\utilities.py:821: DataConversionWarning: A column-vector y was passed when a 1d array was expected. Please change the shape of y to (n_samples,), for example using ravel().\n",
      "  return model.fit(X, y, **kwargs)\n",
      "C:\\Users\\varamase\\AppData\\Local\\Continuum\\anaconda3\\lib\\site-packages\\econml\\utilities.py:821: DataConversionWarning: A column-vector y was passed when a 1d array was expected. Please change the shape of y to (n_samples,), for example using ravel().\n",
      "  return model.fit(X, y, **kwargs)\n",
      "C:\\Users\\varamase\\AppData\\Local\\Continuum\\anaconda3\\lib\\site-packages\\econml\\utilities.py:821: DataConversionWarning: A column-vector y was passed when a 1d array was expected. Please change the shape of y to (n_samples,), for example using ravel().\n",
      "  return model.fit(X, y, **kwargs)\n"
     ]
    }
   ],
   "source": [
    "# Directly using econml\n",
    "from sklearn.ensemble import RandomForestRegressor,RandomForestClassifier\n",
    "est = LinearDML(model_y=RandomForestRegressor(),\n",
    "                model_t=RandomForestRegressor(),\n",
    "                random_state=123)\n",
    "est.fit(Y = Y_train, T = T_train, X=X_train)\n",
    "te_pred = est.effect(X_test)"
   ]
  },
  {
   "cell_type": "code",
   "execution_count": null,
   "metadata": {},
   "outputs": [],
   "source": [
    "est.summary()\n",
    "plt.plot(X_test, te_pred, label='DML default')"
   ]
  },
  {
   "cell_type": "code",
   "execution_count": 10,
   "metadata": {},
   "outputs": [
    {
     "name": "stderr",
     "output_type": "stream",
     "text": [
      "C:\\Users\\varamase\\AppData\\Local\\Continuum\\anaconda3\\lib\\site-packages\\sklearn\\ensemble\\_gb.py:1454: DataConversionWarning: A column-vector y was passed when a 1d array was expected. Please change the shape of y to (n_samples, ), for example using ravel().\n",
      "  y = column_or_1d(y, warn=True)\n",
      "C:\\Users\\varamase\\AppData\\Local\\Continuum\\anaconda3\\lib\\site-packages\\sklearn\\ensemble\\_gb.py:1454: DataConversionWarning: A column-vector y was passed when a 1d array was expected. Please change the shape of y to (n_samples, ), for example using ravel().\n",
      "  y = column_or_1d(y, warn=True)\n",
      "C:\\Users\\varamase\\AppData\\Local\\Continuum\\anaconda3\\lib\\site-packages\\sklearn\\ensemble\\_gb.py:1454: DataConversionWarning: A column-vector y was passed when a 1d array was expected. Please change the shape of y to (n_samples, ), for example using ravel().\n",
      "  y = column_or_1d(y, warn=True)\n",
      "C:\\Users\\varamase\\AppData\\Local\\Continuum\\anaconda3\\lib\\site-packages\\sklearn\\ensemble\\_gb.py:1454: DataConversionWarning: A column-vector y was passed when a 1d array was expected. Please change the shape of y to (n_samples, ), for example using ravel().\n",
      "  y = column_or_1d(y, warn=True)\n"
     ]
    },
    {
     "data": {
      "text/plain": [
       "<econml.dml.LinearDML at 0x228155b6208>"
      ]
     },
     "execution_count": 10,
     "metadata": {},
     "output_type": "execute_result"
    }
   ],
   "source": [
    "from sklearn.ensemble import GradientBoostingRegressor\n",
    "\n",
    "# Using my own models\n",
    "model1 = GradientBoostingRegressor(n_estimators=10, max_depth=2)\n",
    "model2 = GradientBoostingRegressor(n_estimators=10, max_depth=2)\n",
    "\n",
    "est = LinearDML(model_y=model1,\n",
    "                model_t=model2,\n",
    "                random_state=123)\n",
    "\n",
    "est.fit(Y = Y_train, T = T_train, X=X_train)\n",
    "# te_pred = est.effect(X_test)\n",
    "# est.summary()\n",
    "# plt.plot(X_test, te_pred, label='DML default')"
   ]
  },
  {
   "cell_type": "code",
   "execution_count": 33,
   "metadata": {},
   "outputs": [
    {
     "data": {
      "text/plain": [
       "[<matplotlib.lines.Line2D at 0x2289d371c50>,\n",
       " <matplotlib.lines.Line2D at 0x2289d371cc0>,\n",
       " <matplotlib.lines.Line2D at 0x2289d371d68>,\n",
       " <matplotlib.lines.Line2D at 0x2289d371e10>,\n",
       " <matplotlib.lines.Line2D at 0x2289d371eb8>,\n",
       " <matplotlib.lines.Line2D at 0x2289d371f60>,\n",
       " <matplotlib.lines.Line2D at 0x2289d380048>,\n",
       " <matplotlib.lines.Line2D at 0x2289d3800f0>,\n",
       " <matplotlib.lines.Line2D at 0x2289d380198>,\n",
       " <matplotlib.lines.Line2D at 0x2289d380240>,\n",
       " <matplotlib.lines.Line2D at 0x2289d3280f0>,\n",
       " <matplotlib.lines.Line2D at 0x2289d380358>,\n",
       " <matplotlib.lines.Line2D at 0x2289d380400>,\n",
       " <matplotlib.lines.Line2D at 0x2289d3804a8>,\n",
       " <matplotlib.lines.Line2D at 0x2289d380550>,\n",
       " <matplotlib.lines.Line2D at 0x2289d3805f8>,\n",
       " <matplotlib.lines.Line2D at 0x2289d3806a0>,\n",
       " <matplotlib.lines.Line2D at 0x2289d380748>,\n",
       " <matplotlib.lines.Line2D at 0x2289d3807f0>,\n",
       " <matplotlib.lines.Line2D at 0x2289d380898>,\n",
       " <matplotlib.lines.Line2D at 0x2289d380940>,\n",
       " <matplotlib.lines.Line2D at 0x2289d3809e8>,\n",
       " <matplotlib.lines.Line2D at 0x2289d380a90>,\n",
       " <matplotlib.lines.Line2D at 0x2289d380b38>,\n",
       " <matplotlib.lines.Line2D at 0x2289d380be0>]"
      ]
     },
     "execution_count": 33,
     "metadata": {},
     "output_type": "execute_result"
    },
    {
     "data": {
      "image/png": "[encoded data removed]",
      "text/plain": [
       "<Figure size 432x288 with 1 Axes>"
      ]
     },
     "metadata": {},
     "output_type": "display_data"
    }
   ],
   "source": [
    "import matplotlib.pyplot as plt\n",
    "\n",
    "te_pred = est.effect(X_val)\n",
    "est.summary()\n",
    "#a = est.effect_interval(X_val)\n",
    "plt.plot(X_val, te_pred, label='DML default')"
   ]
  },
  {
   "cell_type": "code",
   "execution_count": 4,
   "metadata": {},
   "outputs": [],
   "source": [
    "#Multiple treatments, single outcome \n",
    "Y = df[['M365E5Seats']].values\n",
    "T = df[['M365E3Seats', 'M365F1Seats']].values\n",
    "X = df.drop(columns = ['TPID', 'Date', 'M365E5Seats', 'M365E3Seats', 'M365F1Seats']).values\n",
    "\n",
    "from sklearn.model_selection import train_test_split\n",
    "Y_train, Y_val, T_train, T_val, X_train, X_val = train_test_split(Y, T, X, test_size=.2)"
   ]
  },
  {
   "cell_type": "code",
   "execution_count": 6,
   "metadata": {},
   "outputs": [
    {
     "ename": "TypeError",
     "evalue": "'<' not supported between instances of 'GradientBoostingRegressor' and 'int'",
     "output_type": "error",
     "traceback": [
      "\u001b[1;31m---------------------------------------------------------------------------\u001b[0m",
      "\u001b[1;31mTypeError\u001b[0m                                 Traceback (most recent call last)",
      "\u001b[1;32m<ipython-input-6-f109728b3ae1>\u001b[0m in \u001b[0;36m<module>\u001b[1;34m()\u001b[0m\n\u001b[0;32m     10\u001b[0m                 random_state=123)\n\u001b[0;32m     11\u001b[0m \u001b[1;33m\u001b[0m\u001b[0m\n\u001b[1;32m---> 12\u001b[1;33m \u001b[0mest\u001b[0m\u001b[1;33m.\u001b[0m\u001b[0mfit\u001b[0m\u001b[1;33m(\u001b[0m\u001b[0mY\u001b[0m \u001b[1;33m=\u001b[0m \u001b[0mY_train\u001b[0m\u001b[1;33m,\u001b[0m \u001b[0mT\u001b[0m \u001b[1;33m=\u001b[0m \u001b[0mT_train\u001b[0m\u001b[1;33m,\u001b[0m \u001b[0mX\u001b[0m\u001b[1;33m=\u001b[0m\u001b[0mX_train\u001b[0m\u001b[1;33m)\u001b[0m\u001b[1;33m\u001b[0m\u001b[0m\n\u001b[0m",
      "\u001b[1;32m~\\AppData\\Local\\Continuum\\anaconda3\\lib\\site-packages\\econml\\utilities.py\u001b[0m in \u001b[0;36mm\u001b[1;34m(*args, **kwargs)\u001b[0m\n\u001b[0;32m   1210\u001b[0m             \u001b[1;32mif\u001b[0m \u001b[0mwrong_args\u001b[0m\u001b[1;33m:\u001b[0m\u001b[1;33m\u001b[0m\u001b[0m\n\u001b[0;32m   1211\u001b[0m                 \u001b[0mwarn\u001b[0m\u001b[1;33m(\u001b[0m\u001b[0mmessage\u001b[0m\u001b[1;33m,\u001b[0m \u001b[0mcategory\u001b[0m\u001b[1;33m,\u001b[0m \u001b[0mstacklevel\u001b[0m\u001b[1;33m=\u001b[0m\u001b[1;36m2\u001b[0m\u001b[1;33m)\u001b[0m\u001b[1;33m\u001b[0m\u001b[0m\n\u001b[1;32m-> 1212\u001b[1;33m             \u001b[1;32mreturn\u001b[0m \u001b[0mto_wrap\u001b[0m\u001b[1;33m(\u001b[0m\u001b[1;33m*\u001b[0m\u001b[0margs\u001b[0m\u001b[1;33m,\u001b[0m \u001b[1;33m**\u001b[0m\u001b[0mkwargs\u001b[0m\u001b[1;33m)\u001b[0m\u001b[1;33m\u001b[0m\u001b[0m\n\u001b[0m\u001b[0;32m   1213\u001b[0m         \u001b[1;32mreturn\u001b[0m \u001b[0mm\u001b[0m\u001b[1;33m\u001b[0m\u001b[0m\n\u001b[0;32m   1214\u001b[0m     \u001b[1;32mreturn\u001b[0m \u001b[0mdecorator\u001b[0m\u001b[1;33m\u001b[0m\u001b[0m\n",
      "\u001b[1;32m~\\AppData\\Local\\Continuum\\anaconda3\\lib\\site-packages\\econml\\dml.py\u001b[0m in \u001b[0;36mfit\u001b[1;34m(self, Y, T, X, W, sample_weight, sample_var, groups, inference)\u001b[0m\n\u001b[0;32m    606\u001b[0m         return super().fit(Y, T, X=X, W=W,\n\u001b[0;32m    607\u001b[0m                            \u001b[0msample_weight\u001b[0m\u001b[1;33m=\u001b[0m\u001b[0msample_weight\u001b[0m\u001b[1;33m,\u001b[0m \u001b[0msample_var\u001b[0m\u001b[1;33m=\u001b[0m\u001b[0msample_var\u001b[0m\u001b[1;33m,\u001b[0m \u001b[0mgroups\u001b[0m\u001b[1;33m=\u001b[0m\u001b[0mgroups\u001b[0m\u001b[1;33m,\u001b[0m\u001b[1;33m\u001b[0m\u001b[0m\n\u001b[1;32m--> 608\u001b[1;33m                            inference=inference)\n\u001b[0m\u001b[0;32m    609\u001b[0m \u001b[1;33m\u001b[0m\u001b[0m\n\u001b[0;32m    610\u001b[0m \u001b[1;33m\u001b[0m\u001b[0m\n",
      "\u001b[1;32m~\\AppData\\Local\\Continuum\\anaconda3\\lib\\site-packages\\econml\\utilities.py\u001b[0m in \u001b[0;36mm\u001b[1;34m(*args, **kwargs)\u001b[0m\n\u001b[0;32m   1210\u001b[0m             \u001b[1;32mif\u001b[0m \u001b[0mwrong_args\u001b[0m\u001b[1;33m:\u001b[0m\u001b[1;33m\u001b[0m\u001b[0m\n\u001b[0;32m   1211\u001b[0m                 \u001b[0mwarn\u001b[0m\u001b[1;33m(\u001b[0m\u001b[0mmessage\u001b[0m\u001b[1;33m,\u001b[0m \u001b[0mcategory\u001b[0m\u001b[1;33m,\u001b[0m \u001b[0mstacklevel\u001b[0m\u001b[1;33m=\u001b[0m\u001b[1;36m2\u001b[0m\u001b[1;33m)\u001b[0m\u001b[1;33m\u001b[0m\u001b[0m\n\u001b[1;32m-> 1212\u001b[1;33m             \u001b[1;32mreturn\u001b[0m \u001b[0mto_wrap\u001b[0m\u001b[1;33m(\u001b[0m\u001b[1;33m*\u001b[0m\u001b[0margs\u001b[0m\u001b[1;33m,\u001b[0m \u001b[1;33m**\u001b[0m\u001b[0mkwargs\u001b[0m\u001b[1;33m)\u001b[0m\u001b[1;33m\u001b[0m\u001b[0m\n\u001b[0m\u001b[0;32m   1213\u001b[0m         \u001b[1;32mreturn\u001b[0m \u001b[0mm\u001b[0m\u001b[1;33m\u001b[0m\u001b[0m\n\u001b[0;32m   1214\u001b[0m     \u001b[1;32mreturn\u001b[0m \u001b[0mdecorator\u001b[0m\u001b[1;33m\u001b[0m\u001b[0m\n",
      "\u001b[1;32m~\\AppData\\Local\\Continuum\\anaconda3\\lib\\site-packages\\econml\\dml.py\u001b[0m in \u001b[0;36mfit\u001b[1;34m(self, Y, T, X, W, sample_weight, sample_var, groups, inference)\u001b[0m\n\u001b[0;32m    486\u001b[0m         \"\"\"\n\u001b[0;32m    487\u001b[0m         return super().fit(Y, T, X=X, W=W, sample_weight=sample_weight, sample_var=sample_var, groups=groups,\n\u001b[1;32m--> 488\u001b[1;33m                            inference=inference)\n\u001b[0m\u001b[0;32m    489\u001b[0m \u001b[1;33m\u001b[0m\u001b[0m\n\u001b[0;32m    490\u001b[0m \u001b[1;33m\u001b[0m\u001b[0m\n",
      "\u001b[1;32m~\\AppData\\Local\\Continuum\\anaconda3\\lib\\site-packages\\econml\\utilities.py\u001b[0m in \u001b[0;36mm\u001b[1;34m(*args, **kwargs)\u001b[0m\n\u001b[0;32m   1210\u001b[0m             \u001b[1;32mif\u001b[0m \u001b[0mwrong_args\u001b[0m\u001b[1;33m:\u001b[0m\u001b[1;33m\u001b[0m\u001b[0m\n\u001b[0;32m   1211\u001b[0m                 \u001b[0mwarn\u001b[0m\u001b[1;33m(\u001b[0m\u001b[0mmessage\u001b[0m\u001b[1;33m,\u001b[0m \u001b[0mcategory\u001b[0m\u001b[1;33m,\u001b[0m \u001b[0mstacklevel\u001b[0m\u001b[1;33m=\u001b[0m\u001b[1;36m2\u001b[0m\u001b[1;33m)\u001b[0m\u001b[1;33m\u001b[0m\u001b[0m\n\u001b[1;32m-> 1212\u001b[1;33m             \u001b[1;32mreturn\u001b[0m \u001b[0mto_wrap\u001b[0m\u001b[1;33m(\u001b[0m\u001b[1;33m*\u001b[0m\u001b[0margs\u001b[0m\u001b[1;33m,\u001b[0m \u001b[1;33m**\u001b[0m\u001b[0mkwargs\u001b[0m\u001b[1;33m)\u001b[0m\u001b[1;33m\u001b[0m\u001b[0m\n\u001b[0m\u001b[0;32m   1213\u001b[0m         \u001b[1;32mreturn\u001b[0m \u001b[0mm\u001b[0m\u001b[1;33m\u001b[0m\u001b[0m\n\u001b[0;32m   1214\u001b[0m     \u001b[1;32mreturn\u001b[0m \u001b[0mdecorator\u001b[0m\u001b[1;33m\u001b[0m\u001b[0m\n",
      "\u001b[1;32m~\\AppData\\Local\\Continuum\\anaconda3\\lib\\site-packages\\econml\\_rlearner.py\u001b[0m in \u001b[0;36mfit\u001b[1;34m(self, Y, T, X, W, sample_weight, sample_var, groups, inference)\u001b[0m\n\u001b[0;32m    320\u001b[0m         return super().fit(Y, T, X=X, W=W,\n\u001b[0;32m    321\u001b[0m                            \u001b[0msample_weight\u001b[0m\u001b[1;33m=\u001b[0m\u001b[0msample_weight\u001b[0m\u001b[1;33m,\u001b[0m \u001b[0msample_var\u001b[0m\u001b[1;33m=\u001b[0m\u001b[0msample_var\u001b[0m\u001b[1;33m,\u001b[0m \u001b[0mgroups\u001b[0m\u001b[1;33m=\u001b[0m\u001b[0mgroups\u001b[0m\u001b[1;33m,\u001b[0m\u001b[1;33m\u001b[0m\u001b[0m\n\u001b[1;32m--> 322\u001b[1;33m                            inference=inference)\n\u001b[0m\u001b[0;32m    323\u001b[0m \u001b[1;33m\u001b[0m\u001b[0m\n\u001b[0;32m    324\u001b[0m     \u001b[1;32mdef\u001b[0m \u001b[0mscore\u001b[0m\u001b[1;33m(\u001b[0m\u001b[0mself\u001b[0m\u001b[1;33m,\u001b[0m \u001b[0mY\u001b[0m\u001b[1;33m,\u001b[0m \u001b[0mT\u001b[0m\u001b[1;33m,\u001b[0m \u001b[0mX\u001b[0m\u001b[1;33m=\u001b[0m\u001b[1;32mNone\u001b[0m\u001b[1;33m,\u001b[0m \u001b[0mW\u001b[0m\u001b[1;33m=\u001b[0m\u001b[1;32mNone\u001b[0m\u001b[1;33m)\u001b[0m\u001b[1;33m:\u001b[0m\u001b[1;33m\u001b[0m\u001b[0m\n",
      "\u001b[1;32m~\\AppData\\Local\\Continuum\\anaconda3\\lib\\site-packages\\econml\\utilities.py\u001b[0m in \u001b[0;36mm\u001b[1;34m(*args, **kwargs)\u001b[0m\n\u001b[0;32m   1210\u001b[0m             \u001b[1;32mif\u001b[0m \u001b[0mwrong_args\u001b[0m\u001b[1;33m:\u001b[0m\u001b[1;33m\u001b[0m\u001b[0m\n\u001b[0;32m   1211\u001b[0m                 \u001b[0mwarn\u001b[0m\u001b[1;33m(\u001b[0m\u001b[0mmessage\u001b[0m\u001b[1;33m,\u001b[0m \u001b[0mcategory\u001b[0m\u001b[1;33m,\u001b[0m \u001b[0mstacklevel\u001b[0m\u001b[1;33m=\u001b[0m\u001b[1;36m2\u001b[0m\u001b[1;33m)\u001b[0m\u001b[1;33m\u001b[0m\u001b[0m\n\u001b[1;32m-> 1212\u001b[1;33m             \u001b[1;32mreturn\u001b[0m \u001b[0mto_wrap\u001b[0m\u001b[1;33m(\u001b[0m\u001b[1;33m*\u001b[0m\u001b[0margs\u001b[0m\u001b[1;33m,\u001b[0m \u001b[1;33m**\u001b[0m\u001b[0mkwargs\u001b[0m\u001b[1;33m)\u001b[0m\u001b[1;33m\u001b[0m\u001b[0m\n\u001b[0m\u001b[0;32m   1213\u001b[0m         \u001b[1;32mreturn\u001b[0m \u001b[0mm\u001b[0m\u001b[1;33m\u001b[0m\u001b[0m\n\u001b[0;32m   1214\u001b[0m     \u001b[1;32mreturn\u001b[0m \u001b[0mdecorator\u001b[0m\u001b[1;33m\u001b[0m\u001b[0m\n",
      "\u001b[1;32m~\\AppData\\Local\\Continuum\\anaconda3\\lib\\site-packages\\econml\\cate_estimator.py\u001b[0m in \u001b[0;36mcall\u001b[1;34m(self, Y, T, inference, *args, **kwargs)\u001b[0m\n\u001b[0;32m    102\u001b[0m                 \u001b[0minference\u001b[0m\u001b[1;33m.\u001b[0m\u001b[0mprefit\u001b[0m\u001b[1;33m(\u001b[0m\u001b[0mself\u001b[0m\u001b[1;33m,\u001b[0m \u001b[0mY\u001b[0m\u001b[1;33m,\u001b[0m \u001b[0mT\u001b[0m\u001b[1;33m,\u001b[0m \u001b[1;33m*\u001b[0m\u001b[0margs\u001b[0m\u001b[1;33m,\u001b[0m \u001b[1;33m**\u001b[0m\u001b[0mkwargs\u001b[0m\u001b[1;33m)\u001b[0m\u001b[1;33m\u001b[0m\u001b[0m\n\u001b[0;32m    103\u001b[0m             \u001b[1;31m# call the wrapped fit method\u001b[0m\u001b[1;33m\u001b[0m\u001b[1;33m\u001b[0m\u001b[0m\n\u001b[1;32m--> 104\u001b[1;33m             \u001b[0mm\u001b[0m\u001b[1;33m(\u001b[0m\u001b[0mself\u001b[0m\u001b[1;33m,\u001b[0m \u001b[0mY\u001b[0m\u001b[1;33m,\u001b[0m \u001b[0mT\u001b[0m\u001b[1;33m,\u001b[0m \u001b[1;33m*\u001b[0m\u001b[0margs\u001b[0m\u001b[1;33m,\u001b[0m \u001b[1;33m**\u001b[0m\u001b[0mkwargs\u001b[0m\u001b[1;33m)\u001b[0m\u001b[1;33m\u001b[0m\u001b[0m\n\u001b[0m\u001b[0;32m    105\u001b[0m             \u001b[1;32mif\u001b[0m \u001b[0minference\u001b[0m \u001b[1;32mis\u001b[0m \u001b[1;32mnot\u001b[0m \u001b[1;32mNone\u001b[0m\u001b[1;33m:\u001b[0m\u001b[1;33m\u001b[0m\u001b[0m\n\u001b[0;32m    106\u001b[0m                 \u001b[1;31m# NOTE: we call inference fit *after* calling the main fit method\u001b[0m\u001b[1;33m\u001b[0m\u001b[1;33m\u001b[0m\u001b[0m\n",
      "\u001b[1;32m~\\AppData\\Local\\Continuum\\anaconda3\\lib\\site-packages\\econml\\_ortho_learner.py\u001b[0m in \u001b[0;36mfit\u001b[1;34m(self, Y, T, X, W, Z, sample_weight, sample_var, groups, inference)\u001b[0m\n\u001b[0;32m    541\u001b[0m             Y, T, X, W, Z, sample_weight, sample_var, groups)\n\u001b[0;32m    542\u001b[0m         \u001b[0mself\u001b[0m\u001b[1;33m.\u001b[0m\u001b[0m_check_input_dims\u001b[0m\u001b[1;33m(\u001b[0m\u001b[0mY\u001b[0m\u001b[1;33m,\u001b[0m \u001b[0mT\u001b[0m\u001b[1;33m,\u001b[0m \u001b[0mX\u001b[0m\u001b[1;33m,\u001b[0m \u001b[0mW\u001b[0m\u001b[1;33m,\u001b[0m \u001b[0mZ\u001b[0m\u001b[1;33m,\u001b[0m \u001b[0msample_weight\u001b[0m\u001b[1;33m,\u001b[0m \u001b[0msample_var\u001b[0m\u001b[1;33m,\u001b[0m \u001b[0mgroups\u001b[0m\u001b[1;33m)\u001b[0m\u001b[1;33m\u001b[0m\u001b[0m\n\u001b[1;32m--> 543\u001b[1;33m         \u001b[0mnuisances\u001b[0m\u001b[1;33m,\u001b[0m \u001b[0mfitted_inds\u001b[0m \u001b[1;33m=\u001b[0m \u001b[0mself\u001b[0m\u001b[1;33m.\u001b[0m\u001b[0m_fit_nuisances\u001b[0m\u001b[1;33m(\u001b[0m\u001b[0mY\u001b[0m\u001b[1;33m,\u001b[0m \u001b[0mT\u001b[0m\u001b[1;33m,\u001b[0m \u001b[0mX\u001b[0m\u001b[1;33m,\u001b[0m \u001b[0mW\u001b[0m\u001b[1;33m,\u001b[0m \u001b[0mZ\u001b[0m\u001b[1;33m,\u001b[0m \u001b[0msample_weight\u001b[0m\u001b[1;33m=\u001b[0m\u001b[0msample_weight\u001b[0m\u001b[1;33m,\u001b[0m \u001b[0mgroups\u001b[0m\u001b[1;33m=\u001b[0m\u001b[0mgroups\u001b[0m\u001b[1;33m)\u001b[0m\u001b[1;33m\u001b[0m\u001b[0m\n\u001b[0m\u001b[0;32m    544\u001b[0m         self._fit_final(self._subinds_check_none(Y, fitted_inds),\n\u001b[0;32m    545\u001b[0m                         \u001b[0mself\u001b[0m\u001b[1;33m.\u001b[0m\u001b[0m_subinds_check_none\u001b[0m\u001b[1;33m(\u001b[0m\u001b[0mT\u001b[0m\u001b[1;33m,\u001b[0m \u001b[0mfitted_inds\u001b[0m\u001b[1;33m)\u001b[0m\u001b[1;33m,\u001b[0m\u001b[1;33m\u001b[0m\u001b[0m\n",
      "\u001b[1;32m~\\AppData\\Local\\Continuum\\anaconda3\\lib\\site-packages\\econml\\_ortho_learner.py\u001b[0m in \u001b[0;36m_fit_nuisances\u001b[1;34m(self, Y, T, X, W, Z, sample_weight, groups)\u001b[0m\n\u001b[0;32m    605\u001b[0m         nuisances, fitted_models, fitted_inds, scores = _crossfit(self._model_nuisance, folds,\n\u001b[0;32m    606\u001b[0m                                                                   \u001b[0mY\u001b[0m\u001b[1;33m,\u001b[0m \u001b[0mT\u001b[0m\u001b[1;33m,\u001b[0m \u001b[0mX\u001b[0m\u001b[1;33m=\u001b[0m\u001b[0mX\u001b[0m\u001b[1;33m,\u001b[0m \u001b[0mW\u001b[0m\u001b[1;33m=\u001b[0m\u001b[0mW\u001b[0m\u001b[1;33m,\u001b[0m \u001b[0mZ\u001b[0m\u001b[1;33m=\u001b[0m\u001b[0mZ\u001b[0m\u001b[1;33m,\u001b[0m\u001b[1;33m\u001b[0m\u001b[0m\n\u001b[1;32m--> 607\u001b[1;33m                                                                   sample_weight=sample_weight, groups=groups)\n\u001b[0m\u001b[0;32m    608\u001b[0m         \u001b[0mself\u001b[0m\u001b[1;33m.\u001b[0m\u001b[0m_models_nuisance\u001b[0m \u001b[1;33m=\u001b[0m \u001b[0mfitted_models\u001b[0m\u001b[1;33m\u001b[0m\u001b[0m\n\u001b[0;32m    609\u001b[0m         \u001b[0mself\u001b[0m\u001b[1;33m.\u001b[0m\u001b[0mnuisance_scores_\u001b[0m \u001b[1;33m=\u001b[0m \u001b[0mscores\u001b[0m\u001b[1;33m\u001b[0m\u001b[0m\n",
      "\u001b[1;32m~\\AppData\\Local\\Continuum\\anaconda3\\lib\\site-packages\\econml\\_ortho_learner.py\u001b[0m in \u001b[0;36m_crossfit\u001b[1;34m(model, folds, *args, **kwargs)\u001b[0m\n\u001b[0;32m    160\u001b[0m         \u001b[0mkwargs_test\u001b[0m \u001b[1;33m=\u001b[0m \u001b[1;33m{\u001b[0m\u001b[0mkey\u001b[0m\u001b[1;33m:\u001b[0m \u001b[0mvar\u001b[0m\u001b[1;33m[\u001b[0m\u001b[0mtest_idxs\u001b[0m\u001b[1;33m]\u001b[0m \u001b[1;32mfor\u001b[0m \u001b[0mkey\u001b[0m\u001b[1;33m,\u001b[0m \u001b[0mvar\u001b[0m \u001b[1;32min\u001b[0m \u001b[0mkwargs\u001b[0m\u001b[1;33m.\u001b[0m\u001b[0mitems\u001b[0m\u001b[1;33m(\u001b[0m\u001b[1;33m)\u001b[0m\u001b[1;33m}\u001b[0m\u001b[1;33m\u001b[0m\u001b[0m\n\u001b[0;32m    161\u001b[0m \u001b[1;33m\u001b[0m\u001b[0m\n\u001b[1;32m--> 162\u001b[1;33m         \u001b[0mmodel_list\u001b[0m\u001b[1;33m[\u001b[0m\u001b[0midx\u001b[0m\u001b[1;33m]\u001b[0m\u001b[1;33m.\u001b[0m\u001b[0mfit\u001b[0m\u001b[1;33m(\u001b[0m\u001b[1;33m*\u001b[0m\u001b[0margs_train\u001b[0m\u001b[1;33m,\u001b[0m \u001b[1;33m**\u001b[0m\u001b[0mkwargs_train\u001b[0m\u001b[1;33m)\u001b[0m\u001b[1;33m\u001b[0m\u001b[0m\n\u001b[0m\u001b[0;32m    163\u001b[0m \u001b[1;33m\u001b[0m\u001b[0m\n\u001b[0;32m    164\u001b[0m         \u001b[0mnuisance_temp\u001b[0m \u001b[1;33m=\u001b[0m \u001b[0mmodel_list\u001b[0m\u001b[1;33m[\u001b[0m\u001b[0midx\u001b[0m\u001b[1;33m]\u001b[0m\u001b[1;33m.\u001b[0m\u001b[0mpredict\u001b[0m\u001b[1;33m(\u001b[0m\u001b[1;33m*\u001b[0m\u001b[0margs_test\u001b[0m\u001b[1;33m,\u001b[0m \u001b[1;33m**\u001b[0m\u001b[0mkwargs_test\u001b[0m\u001b[1;33m)\u001b[0m\u001b[1;33m\u001b[0m\u001b[0m\n",
      "\u001b[1;32m~\\AppData\\Local\\Continuum\\anaconda3\\lib\\site-packages\\econml\\_rlearner.py\u001b[0m in \u001b[0;36mfit\u001b[1;34m(self, Y, T, X, W, Z, sample_weight, groups)\u001b[0m\n\u001b[0;32m     48\u001b[0m     \u001b[1;32mdef\u001b[0m \u001b[0mfit\u001b[0m\u001b[1;33m(\u001b[0m\u001b[0mself\u001b[0m\u001b[1;33m,\u001b[0m \u001b[0mY\u001b[0m\u001b[1;33m,\u001b[0m \u001b[0mT\u001b[0m\u001b[1;33m,\u001b[0m \u001b[0mX\u001b[0m\u001b[1;33m=\u001b[0m\u001b[1;32mNone\u001b[0m\u001b[1;33m,\u001b[0m \u001b[0mW\u001b[0m\u001b[1;33m=\u001b[0m\u001b[1;32mNone\u001b[0m\u001b[1;33m,\u001b[0m \u001b[0mZ\u001b[0m\u001b[1;33m=\u001b[0m\u001b[1;32mNone\u001b[0m\u001b[1;33m,\u001b[0m \u001b[0msample_weight\u001b[0m\u001b[1;33m=\u001b[0m\u001b[1;32mNone\u001b[0m\u001b[1;33m,\u001b[0m \u001b[0mgroups\u001b[0m\u001b[1;33m=\u001b[0m\u001b[1;32mNone\u001b[0m\u001b[1;33m)\u001b[0m\u001b[1;33m:\u001b[0m\u001b[1;33m\u001b[0m\u001b[0m\n\u001b[0;32m     49\u001b[0m         \u001b[1;32massert\u001b[0m \u001b[0mZ\u001b[0m \u001b[1;32mis\u001b[0m \u001b[1;32mNone\u001b[0m\u001b[1;33m,\u001b[0m \u001b[1;34m\"Cannot accept instrument!\"\u001b[0m\u001b[1;33m\u001b[0m\u001b[0m\n\u001b[1;32m---> 50\u001b[1;33m         \u001b[0mself\u001b[0m\u001b[1;33m.\u001b[0m\u001b[0m_model_t\u001b[0m\u001b[1;33m.\u001b[0m\u001b[0mfit\u001b[0m\u001b[1;33m(\u001b[0m\u001b[0mX\u001b[0m\u001b[1;33m,\u001b[0m \u001b[0mW\u001b[0m\u001b[1;33m,\u001b[0m \u001b[0mT\u001b[0m\u001b[1;33m,\u001b[0m \u001b[1;33m**\u001b[0m\u001b[0mfilter_none_kwargs\u001b[0m\u001b[1;33m(\u001b[0m\u001b[0msample_weight\u001b[0m\u001b[1;33m=\u001b[0m\u001b[0msample_weight\u001b[0m\u001b[1;33m,\u001b[0m \u001b[0mgroups\u001b[0m\u001b[1;33m=\u001b[0m\u001b[0mgroups\u001b[0m\u001b[1;33m)\u001b[0m\u001b[1;33m)\u001b[0m\u001b[1;33m\u001b[0m\u001b[0m\n\u001b[0m\u001b[0;32m     51\u001b[0m         \u001b[0mself\u001b[0m\u001b[1;33m.\u001b[0m\u001b[0m_model_y\u001b[0m\u001b[1;33m.\u001b[0m\u001b[0mfit\u001b[0m\u001b[1;33m(\u001b[0m\u001b[0mX\u001b[0m\u001b[1;33m,\u001b[0m \u001b[0mW\u001b[0m\u001b[1;33m,\u001b[0m \u001b[0mY\u001b[0m\u001b[1;33m,\u001b[0m \u001b[1;33m**\u001b[0m\u001b[0mfilter_none_kwargs\u001b[0m\u001b[1;33m(\u001b[0m\u001b[0msample_weight\u001b[0m\u001b[1;33m=\u001b[0m\u001b[0msample_weight\u001b[0m\u001b[1;33m,\u001b[0m \u001b[0mgroups\u001b[0m\u001b[1;33m=\u001b[0m\u001b[0mgroups\u001b[0m\u001b[1;33m)\u001b[0m\u001b[1;33m)\u001b[0m\u001b[1;33m\u001b[0m\u001b[0m\n\u001b[0;32m     52\u001b[0m         \u001b[1;32mreturn\u001b[0m \u001b[0mself\u001b[0m\u001b[1;33m\u001b[0m\u001b[0m\n",
      "\u001b[1;32m~\\AppData\\Local\\Continuum\\anaconda3\\lib\\site-packages\\econml\\dml.py\u001b[0m in \u001b[0;36mfit\u001b[1;34m(self, X, W, Target, sample_weight, groups)\u001b[0m\n\u001b[0;32m    100\u001b[0m                             sample_weight=sample_weight)\n\u001b[0;32m    101\u001b[0m         \u001b[1;32melse\u001b[0m\u001b[1;33m:\u001b[0m\u001b[1;33m\u001b[0m\u001b[0m\n\u001b[1;32m--> 102\u001b[1;33m             \u001b[0mfit_with_groups\u001b[0m\u001b[1;33m(\u001b[0m\u001b[0mself\u001b[0m\u001b[1;33m.\u001b[0m\u001b[0m_model\u001b[0m\u001b[1;33m,\u001b[0m \u001b[0mself\u001b[0m\u001b[1;33m.\u001b[0m\u001b[0m_combine\u001b[0m\u001b[1;33m(\u001b[0m\u001b[0mX\u001b[0m\u001b[1;33m,\u001b[0m \u001b[0mW\u001b[0m\u001b[1;33m,\u001b[0m \u001b[0mTarget\u001b[0m\u001b[1;33m.\u001b[0m\u001b[0mshape\u001b[0m\u001b[1;33m[\u001b[0m\u001b[1;36m0\u001b[0m\u001b[1;33m]\u001b[0m\u001b[1;33m)\u001b[0m\u001b[1;33m,\u001b[0m \u001b[0mTarget\u001b[0m\u001b[1;33m,\u001b[0m \u001b[0mgroups\u001b[0m\u001b[1;33m=\u001b[0m\u001b[0mgroups\u001b[0m\u001b[1;33m)\u001b[0m\u001b[1;33m\u001b[0m\u001b[0m\n\u001b[0m\u001b[0;32m    103\u001b[0m \u001b[1;33m\u001b[0m\u001b[0m\n\u001b[0;32m    104\u001b[0m     \u001b[1;32mdef\u001b[0m \u001b[0mpredict\u001b[0m\u001b[1;33m(\u001b[0m\u001b[0mself\u001b[0m\u001b[1;33m,\u001b[0m \u001b[0mX\u001b[0m\u001b[1;33m,\u001b[0m \u001b[0mW\u001b[0m\u001b[1;33m)\u001b[0m\u001b[1;33m:\u001b[0m\u001b[1;33m\u001b[0m\u001b[0m\n",
      "\u001b[1;32m~\\AppData\\Local\\Continuum\\anaconda3\\lib\\site-packages\\econml\\utilities.py\u001b[0m in \u001b[0;36mfit_with_groups\u001b[1;34m(model, X, y, groups, **kwargs)\u001b[0m\n\u001b[0;32m    819\u001b[0m                 \u001b[0mmodel\u001b[0m\u001b[1;33m.\u001b[0m\u001b[0mcv\u001b[0m \u001b[1;33m=\u001b[0m \u001b[0mold_cv\u001b[0m\u001b[1;33m\u001b[0m\u001b[0m\n\u001b[0;32m    820\u001b[0m \u001b[1;33m\u001b[0m\u001b[0m\n\u001b[1;32m--> 821\u001b[1;33m     \u001b[1;32mreturn\u001b[0m \u001b[0mmodel\u001b[0m\u001b[1;33m.\u001b[0m\u001b[0mfit\u001b[0m\u001b[1;33m(\u001b[0m\u001b[0mX\u001b[0m\u001b[1;33m,\u001b[0m \u001b[0my\u001b[0m\u001b[1;33m,\u001b[0m \u001b[1;33m**\u001b[0m\u001b[0mkwargs\u001b[0m\u001b[1;33m)\u001b[0m\u001b[1;33m\u001b[0m\u001b[0m\n\u001b[0m\u001b[0;32m    822\u001b[0m \u001b[1;33m\u001b[0m\u001b[0m\n\u001b[0;32m    823\u001b[0m \u001b[1;33m\u001b[0m\u001b[0m\n",
      "\u001b[1;32m~\\AppData\\Local\\Continuum\\anaconda3\\lib\\site-packages\\sklearn\\multioutput.py\u001b[0m in \u001b[0;36mfit\u001b[1;34m(self, X, y, sample_weight)\u001b[0m\n\u001b[0;32m    168\u001b[0m             delayed(_fit_estimator)(\n\u001b[0;32m    169\u001b[0m                 self.estimator, X, y[:, i], sample_weight)\n\u001b[1;32m--> 170\u001b[1;33m             for i in range(y.shape[1]))\n\u001b[0m\u001b[0;32m    171\u001b[0m         \u001b[1;32mreturn\u001b[0m \u001b[0mself\u001b[0m\u001b[1;33m\u001b[0m\u001b[0m\n\u001b[0;32m    172\u001b[0m \u001b[1;33m\u001b[0m\u001b[0m\n",
      "\u001b[1;32m~\\AppData\\Local\\Continuum\\anaconda3\\lib\\site-packages\\joblib\\parallel.py\u001b[0m in \u001b[0;36m__call__\u001b[1;34m(self, iterable)\u001b[0m\n\u001b[0;32m    964\u001b[0m \u001b[1;33m\u001b[0m\u001b[0m\n\u001b[0;32m    965\u001b[0m         \u001b[1;32mif\u001b[0m \u001b[1;32mnot\u001b[0m \u001b[0mself\u001b[0m\u001b[1;33m.\u001b[0m\u001b[0m_managed_backend\u001b[0m\u001b[1;33m:\u001b[0m\u001b[1;33m\u001b[0m\u001b[0m\n\u001b[1;32m--> 966\u001b[1;33m             \u001b[0mn_jobs\u001b[0m \u001b[1;33m=\u001b[0m \u001b[0mself\u001b[0m\u001b[1;33m.\u001b[0m\u001b[0m_initialize_backend\u001b[0m\u001b[1;33m(\u001b[0m\u001b[1;33m)\u001b[0m\u001b[1;33m\u001b[0m\u001b[0m\n\u001b[0m\u001b[0;32m    967\u001b[0m         \u001b[1;32melse\u001b[0m\u001b[1;33m:\u001b[0m\u001b[1;33m\u001b[0m\u001b[0m\n\u001b[0;32m    968\u001b[0m             \u001b[0mn_jobs\u001b[0m \u001b[1;33m=\u001b[0m \u001b[0mself\u001b[0m\u001b[1;33m.\u001b[0m\u001b[0m_effective_n_jobs\u001b[0m\u001b[1;33m(\u001b[0m\u001b[1;33m)\u001b[0m\u001b[1;33m\u001b[0m\u001b[0m\n",
      "\u001b[1;32m~\\AppData\\Local\\Continuum\\anaconda3\\lib\\site-packages\\joblib\\parallel.py\u001b[0m in \u001b[0;36m_initialize_backend\u001b[1;34m(self)\u001b[0m\n\u001b[0;32m    732\u001b[0m         \u001b[1;32mtry\u001b[0m\u001b[1;33m:\u001b[0m\u001b[1;33m\u001b[0m\u001b[0m\n\u001b[0;32m    733\u001b[0m             n_jobs = self._backend.configure(n_jobs=self.n_jobs, parallel=self,\n\u001b[1;32m--> 734\u001b[1;33m                                              **self._backend_args)\n\u001b[0m\u001b[0;32m    735\u001b[0m             \u001b[1;32mif\u001b[0m \u001b[0mself\u001b[0m\u001b[1;33m.\u001b[0m\u001b[0mtimeout\u001b[0m \u001b[1;32mis\u001b[0m \u001b[1;32mnot\u001b[0m \u001b[1;32mNone\u001b[0m \u001b[1;32mand\u001b[0m \u001b[1;32mnot\u001b[0m \u001b[0mself\u001b[0m\u001b[1;33m.\u001b[0m\u001b[0m_backend\u001b[0m\u001b[1;33m.\u001b[0m\u001b[0msupports_timeout\u001b[0m\u001b[1;33m:\u001b[0m\u001b[1;33m\u001b[0m\u001b[0m\n\u001b[0;32m    736\u001b[0m                 warnings.warn(\n",
      "\u001b[1;32m~\\AppData\\Local\\Continuum\\anaconda3\\lib\\site-packages\\joblib\\_parallel_backends.py\u001b[0m in \u001b[0;36mconfigure\u001b[1;34m(self, n_jobs, parallel, prefer, require, idle_worker_timeout, **memmappingexecutor_args)\u001b[0m\n\u001b[0;32m    487\u001b[0m                   idle_worker_timeout=300, **memmappingexecutor_args):\n\u001b[0;32m    488\u001b[0m         \u001b[1;34m\"\"\"Build a process executor and return the number of workers\"\"\"\u001b[0m\u001b[1;33m\u001b[0m\u001b[0m\n\u001b[1;32m--> 489\u001b[1;33m         \u001b[0mn_jobs\u001b[0m \u001b[1;33m=\u001b[0m \u001b[0mself\u001b[0m\u001b[1;33m.\u001b[0m\u001b[0meffective_n_jobs\u001b[0m\u001b[1;33m(\u001b[0m\u001b[0mn_jobs\u001b[0m\u001b[1;33m)\u001b[0m\u001b[1;33m\u001b[0m\u001b[0m\n\u001b[0m\u001b[0;32m    490\u001b[0m         \u001b[1;32mif\u001b[0m \u001b[0mn_jobs\u001b[0m \u001b[1;33m==\u001b[0m \u001b[1;36m1\u001b[0m\u001b[1;33m:\u001b[0m\u001b[1;33m\u001b[0m\u001b[0m\n\u001b[0;32m    491\u001b[0m             raise FallbackToBackend(\n",
      "\u001b[1;32m~\\AppData\\Local\\Continuum\\anaconda3\\lib\\site-packages\\joblib\\_parallel_backends.py\u001b[0m in \u001b[0;36meffective_n_jobs\u001b[1;34m(self, n_jobs)\u001b[0m\n\u001b[0;32m    523\u001b[0m                     stacklevel=3)\n\u001b[0;32m    524\u001b[0m             \u001b[1;32mreturn\u001b[0m \u001b[1;36m1\u001b[0m\u001b[1;33m\u001b[0m\u001b[0m\n\u001b[1;32m--> 525\u001b[1;33m         \u001b[1;32melif\u001b[0m \u001b[0mn_jobs\u001b[0m \u001b[1;33m<\u001b[0m \u001b[1;36m0\u001b[0m\u001b[1;33m:\u001b[0m\u001b[1;33m\u001b[0m\u001b[0m\n\u001b[0m\u001b[0;32m    526\u001b[0m             \u001b[0mn_jobs\u001b[0m \u001b[1;33m=\u001b[0m \u001b[0mmax\u001b[0m\u001b[1;33m(\u001b[0m\u001b[0mcpu_count\u001b[0m\u001b[1;33m(\u001b[0m\u001b[1;33m)\u001b[0m \u001b[1;33m+\u001b[0m \u001b[1;36m1\u001b[0m \u001b[1;33m+\u001b[0m \u001b[0mn_jobs\u001b[0m\u001b[1;33m,\u001b[0m \u001b[1;36m1\u001b[0m\u001b[1;33m)\u001b[0m\u001b[1;33m\u001b[0m\u001b[0m\n\u001b[0;32m    527\u001b[0m         \u001b[1;32mreturn\u001b[0m \u001b[0mn_jobs\u001b[0m\u001b[1;33m\u001b[0m\u001b[0m\n",
      "\u001b[1;31mTypeError\u001b[0m: '<' not supported between instances of 'GradientBoostingRegressor' and 'int'"
     ]
    }
   ],
   "source": [
    "from sklearn.ensemble import RandomForestRegressor,RandomForestClassifier\n",
    "from sklearn.ensemble import GradientBoostingRegressor\n",
    "from sklearn.multioutput import MultiOutputRegressor\n",
    "model1 = GradientBoostingRegressor(n_estimators=10, max_depth=2)\n",
    "model2 = MultiOutputRegressor(GradientBoostingRegressor(n_estimators=10, max_depth=3))\n",
    "\n",
    "est = LinearDML(model_y=model1,\n",
    "                model_t=model2,\n",
    "                random_state=123)\n",
    "\n",
    "est.fit(Y = Y_train, T = T_train, X=X_train)"
   ]
  },
  {
   "cell_type": "code",
   "execution_count": 53,
   "metadata": {},
   "outputs": [
    {
     "data": {
      "text/html": [
       "<table class=\"simpletable\">\n",
       "<caption>Coefficient Results</caption>\n",
       "<tr>\n",
       "   <td></td>   <th>point_estimate</th> <th>point_estimate</th> <th>stderr</th> <th>stderr</th>  <th>zstat</th>  <th>zstat</th>  <th>pvalue</th> <th>pvalue</th> <th>ci_lower</th> <th>ci_lower</th> <th>ci_upper</th> <th>ci_upper</th>\n",
       "</tr>\n",
       "<tr>\n",
       "   <td></td>         <th>T0</th>             <th>T1</th>         <th>T0</th>     <th>T1</th>     <th>T0</th>     <th>T1</th>      <th>T0</th>     <th>T1</th>      <th>T0</th>       <th>T1</th>       <th>T0</th>       <th>T1</th>   \n",
       "</tr>\n",
       "<tr>\n",
       "  <th>X0</th>        <td>0.0</td>           <td>-0.0</td>        <td>0.0</td>    <td>0.0</td>   <td>2.144</td> <td>-1.668</td>   <td>0.032</td>  <td>0.095</td>    <td>0.0</td>     <td>-0.0</td>      <td>0.0</td>     <td>-0.0</td>  \n",
       "</tr>\n",
       "<tr>\n",
       "  <th>X1</th>       <td>-0.0</td>            <td>0.0</td>        <td>0.0</td>    <td>0.0</td>  <td>-2.752</td>  <td>1.252</td>   <td>0.006</td>  <td>0.21</td>    <td>-0.0</td>     <td>-0.0</td>     <td>-0.0</td>      <td>0.0</td>  \n",
       "</tr>\n",
       "<tr>\n",
       "  <th>X2</th>        <td>0.0</td>           <td>-0.0</td>        <td>0.0</td>    <td>0.0</td>   <td>3.091</td> <td>-5.479</td>   <td>0.002</td>   <td>0.0</td>     <td>0.0</td>     <td>-0.0</td>      <td>0.0</td>     <td>-0.0</td>  \n",
       "</tr>\n",
       "<tr>\n",
       "  <th>X3</th>       <td>-0.0</td>            <td>0.0</td>        <td>0.0</td>    <td>0.0</td>  <td>-0.554</td>  <td>1.884</td>   <td>0.58</td>   <td>0.06</td>    <td>-0.0</td>      <td>0.0</td>      <td>0.0</td>      <td>0.0</td>  \n",
       "</tr>\n",
       "<tr>\n",
       "  <th>X4</th>        <td>0.0</td>            <td>0.0</td>        <td>0.0</td>    <td>0.0</td>   <td>1.136</td>  <td>1.963</td>   <td>0.256</td>  <td>0.05</td>    <td>-0.0</td>      <td>0.0</td>      <td>0.0</td>      <td>0.0</td>  \n",
       "</tr>\n",
       "<tr>\n",
       "  <th>X5</th>       <td>-0.0</td>           <td>-0.0</td>        <td>0.0</td>    <td>0.0</td>   <td>-1.58</td> <td>-5.757</td>   <td>0.114</td>   <td>0.0</td>    <td>-0.0</td>     <td>-0.0</td>      <td>0.0</td>     <td>-0.0</td>  \n",
       "</tr>\n",
       "<tr>\n",
       "  <th>X6</th>       <td>-0.0</td>            <td>0.0</td>        <td>0.0</td>    <td>0.0</td>  <td>-2.312</td>  <td>4.121</td>   <td>0.021</td>   <td>0.0</td>    <td>-0.0</td>      <td>0.0</td>     <td>-0.0</td>      <td>0.0</td>  \n",
       "</tr>\n",
       "<tr>\n",
       "  <th>X7</th>        <td>0.0</td>           <td>-0.0</td>        <td>0.0</td>    <td>0.0</td>   <td>1.101</td> <td>-0.533</td>   <td>0.271</td>  <td>0.594</td>   <td>-0.0</td>     <td>-0.0</td>      <td>0.0</td>      <td>0.0</td>  \n",
       "</tr>\n",
       "<tr>\n",
       "  <th>X8</th>       <td>-0.0</td>            <td>0.0</td>        <td>0.0</td>    <td>0.0</td>  <td>-0.938</td>  <td>1.637</td>   <td>0.348</td>  <td>0.102</td>   <td>-0.0</td>     <td>-0.0</td>      <td>0.0</td>      <td>0.0</td>  \n",
       "</tr>\n",
       "<tr>\n",
       "  <th>X9</th>       <td>-0.0</td>            <td>0.0</td>        <td>0.0</td>    <td>0.0</td>  <td>-4.188</td>  <td>1.667</td>    <td>0.0</td>   <td>0.096</td>   <td>-0.0</td>      <td>0.0</td>     <td>-0.0</td>      <td>0.0</td>  \n",
       "</tr>\n",
       "<tr>\n",
       "  <th>X10</th>       <td>0.0</td>           <td>-0.0</td>        <td>0.0</td>    <td>0.0</td>   <td>3.128</td> <td>-3.759</td>   <td>0.002</td>   <td>0.0</td>     <td>0.0</td>     <td>-0.0</td>      <td>0.0</td>     <td>-0.0</td>  \n",
       "</tr>\n",
       "<tr>\n",
       "  <th>X11</th>      <td>-0.0</td>            <td>0.0</td>        <td>0.0</td>    <td>0.0</td>  <td>-2.112</td>  <td>1.995</td>   <td>0.035</td>  <td>0.046</td>   <td>-0.0</td>      <td>0.0</td>     <td>-0.0</td>      <td>0.0</td>  \n",
       "</tr>\n",
       "<tr>\n",
       "  <th>X12</th>       <td>0.0</td>           <td>-0.0</td>        <td>0.0</td>    <td>0.0</td>   <td>2.304</td> <td>-2.005</td>   <td>0.021</td>  <td>0.045</td>    <td>0.0</td>     <td>-0.0</td>      <td>0.0</td>     <td>-0.0</td>  \n",
       "</tr>\n",
       "<tr>\n",
       "  <th>X13</th>      <td>-0.0</td>            <td>0.0</td>        <td>0.0</td>    <td>0.0</td>  <td>-1.021</td>  <td>1.999</td>   <td>0.307</td>  <td>0.046</td>   <td>-0.0</td>      <td>0.0</td>      <td>0.0</td>      <td>0.0</td>  \n",
       "</tr>\n",
       "<tr>\n",
       "  <th>X14</th>      <td>-0.0</td>           <td>-0.0</td>        <td>0.0</td>    <td>0.0</td>  <td>-1.983</td>  <td>-1.94</td>   <td>0.047</td>  <td>0.052</td>   <td>-0.0</td>     <td>-0.0</td>     <td>-0.0</td>     <td>-0.0</td>  \n",
       "</tr>\n",
       "<tr>\n",
       "  <th>X15</th>      <td>-0.0</td>           <td>-0.0</td>        <td>0.0</td>    <td>0.0</td>  <td>-2.068</td> <td>-2.035</td>   <td>0.039</td>  <td>0.042</td>   <td>-0.0</td>     <td>-0.0</td>     <td>-0.0</td>     <td>-0.0</td>  \n",
       "</tr>\n",
       "<tr>\n",
       "  <th>X16</th>       <td>0.0</td>           <td>-0.0</td>        <td>0.0</td>    <td>0.0</td>   <td>1.99</td>  <td>-0.576</td>   <td>0.047</td>  <td>0.564</td>    <td>0.0</td>     <td>-0.0</td>      <td>0.0</td>      <td>0.0</td>  \n",
       "</tr>\n",
       "<tr>\n",
       "  <th>X17</th>      <td>-0.0</td>            <td>0.0</td>        <td>0.0</td>    <td>0.0</td>  <td>-2.642</td>  <td>2.068</td>   <td>0.008</td>  <td>0.039</td>   <td>-0.0</td>      <td>0.0</td>     <td>-0.0</td>      <td>0.0</td>  \n",
       "</tr>\n",
       "<tr>\n",
       "  <th>X18</th>      <td>-0.0</td>           <td>-0.0</td>        <td>0.0</td>    <td>0.0</td>  <td>-2.126</td> <td>-1.871</td>   <td>0.033</td>  <td>0.061</td>   <td>-0.0</td>     <td>-0.0</td>     <td>-0.0</td>     <td>-0.0</td>  \n",
       "</tr>\n",
       "<tr>\n",
       "  <th>X19</th>      <td>-0.0</td>           <td>-0.0</td>        <td>0.0</td>    <td>0.0</td>  <td>-4.584</td> <td>-20.326</td>   <td>0.0</td>    <td>0.0</td>    <td>-0.0</td>     <td>-0.0</td>     <td>-0.0</td>     <td>-0.0</td>  \n",
       "</tr>\n",
       "<tr>\n",
       "  <th>X20</th>      <td>-0.0</td>           <td>-0.0</td>        <td>0.0</td>    <td>0.0</td>  <td>-0.537</td> <td>-1.535</td>   <td>0.591</td>  <td>0.125</td>   <td>-0.0</td>     <td>-0.0</td>      <td>0.0</td>      <td>0.0</td>  \n",
       "</tr>\n",
       "<tr>\n",
       "  <th>X21</th>     <td>-0.001</td>          <td>0.007</td>       <td>0.0</td>   <td>0.006</td> <td>-2.975</td>  <td>1.194</td>   <td>0.003</td>  <td>0.232</td>  <td>-0.001</td>   <td>-0.003</td>    <td>-0.0</td>     <td>0.016</td> \n",
       "</tr>\n",
       "<tr>\n",
       "  <th>X22</th>       <td>0.0</td>           <td>-0.0</td>        <td>0.0</td>    <td>0.0</td>   <td>3.87</td>  <td>-1.158</td>    <td>0.0</td>   <td>0.247</td>    <td>0.0</td>     <td>-0.0</td>      <td>0.0</td>      <td>0.0</td>  \n",
       "</tr>\n",
       "<tr>\n",
       "  <th>X23</th>      <td>-0.0</td>           <td>-0.0</td>        <td>0.0</td>    <td>0.0</td>  <td>-1.042</td> <td>-2.635</td>   <td>0.297</td>  <td>0.008</td>   <td>-0.0</td>     <td>-0.0</td>      <td>0.0</td>     <td>-0.0</td>  \n",
       "</tr>\n",
       "</table>\n",
       "<table class=\"simpletable\">\n",
       "<caption>CATE Intercept Results</caption>\n",
       "<tr>\n",
       "         <td></td>        <th>point_estimate</th> <th>point_estimate</th> <th>stderr</th> <th>stderr</th> <th>zstat</th> <th>zstat</th> <th>pvalue</th> <th>pvalue</th> <th>ci_lower</th> <th>ci_lower</th> <th>ci_upper</th> <th>ci_upper</th>\n",
       "</tr>\n",
       "<tr>\n",
       "         <td></td>              <th>T0</th>             <th>T1</th>         <th>T0</th>     <th>T1</th>    <th>T0</th>    <th>T1</th>     <th>T0</th>     <th>T1</th>      <th>T0</th>       <th>T1</th>       <th>T0</th>       <th>T1</th>   \n",
       "</tr>\n",
       "<tr>\n",
       "  <th>cate_intercept</th>      <td>0.015</td>          <td>0.098</td>      <td>0.002</td>  <td>0.018</td> <td>8.918</td> <td>5.455</td>   <td>0.0</td>    <td>0.0</td>    <td>0.012</td>    <td>0.069</td>    <td>0.018</td>    <td>0.128</td> \n",
       "</tr>\n",
       "</table><br/><br/><sub>A linear parametric conditional average treatment effect (CATE) model was fitted:<br/>$Y = \\Theta(X)\\cdot T + g(X, W) + \\epsilon$<br/>where for every outcome $i$ and treatment $j$ the CATE $\\Theta_{ij}(X)$ has the form:<br/>$\\Theta_{ij}(X) = \\phi(X)' coef_{ij} + cate\\_intercept_{ij}$<br/>where $\\phi(X)$ is the output of the `featurizer` or $X$ if `featurizer`=None. Coefficient Results table portrays the $coef_{ij}$ parameter vector for each outcome $i$ and treatment $j$. Intercept Results table portrays the $cate\\_intercept_{ij}$ parameter.</sub>"
      ],
      "text/plain": [
       "<class 'econml.utilities.Summary'>\n",
       "\"\"\"\n",
       "                                              Coefficient Results                                               \n",
       "================================================================================================================\n",
       "    point_estimate point_estimate stderr stderr zstat   zstat  pvalue pvalue ci_lower ci_lower ci_upper ci_upper\n",
       "          T0             T1         T0     T1     T0      T1     T0     T1      T0       T1       T0       T1   \n",
       "----------------------------------------------------------------------------------------------------------------\n",
       "X0             0.0           -0.0    0.0    0.0  2.144  -1.668  0.032  0.095      0.0     -0.0      0.0     -0.0\n",
       "X1            -0.0            0.0    0.0    0.0 -2.752   1.252  0.006   0.21     -0.0     -0.0     -0.0      0.0\n",
       "X2             0.0           -0.0    0.0    0.0  3.091  -5.479  0.002    0.0      0.0     -0.0      0.0     -0.0\n",
       "X3            -0.0            0.0    0.0    0.0 -0.554   1.884   0.58   0.06     -0.0      0.0      0.0      0.0\n",
       "X4             0.0            0.0    0.0    0.0  1.136   1.963  0.256   0.05     -0.0      0.0      0.0      0.0\n",
       "X5            -0.0           -0.0    0.0    0.0  -1.58  -5.757  0.114    0.0     -0.0     -0.0      0.0     -0.0\n",
       "X6            -0.0            0.0    0.0    0.0 -2.312   4.121  0.021    0.0     -0.0      0.0     -0.0      0.0\n",
       "X7             0.0           -0.0    0.0    0.0  1.101  -0.533  0.271  0.594     -0.0     -0.0      0.0      0.0\n",
       "X8            -0.0            0.0    0.0    0.0 -0.938   1.637  0.348  0.102     -0.0     -0.0      0.0      0.0\n",
       "X9            -0.0            0.0    0.0    0.0 -4.188   1.667    0.0  0.096     -0.0      0.0     -0.0      0.0\n",
       "X10            0.0           -0.0    0.0    0.0  3.128  -3.759  0.002    0.0      0.0     -0.0      0.0     -0.0\n",
       "X11           -0.0            0.0    0.0    0.0 -2.112   1.995  0.035  0.046     -0.0      0.0     -0.0      0.0\n",
       "X12            0.0           -0.0    0.0    0.0  2.304  -2.005  0.021  0.045      0.0     -0.0      0.0     -0.0\n",
       "X13           -0.0            0.0    0.0    0.0 -1.021   1.999  0.307  0.046     -0.0      0.0      0.0      0.0\n",
       "X14           -0.0           -0.0    0.0    0.0 -1.983   -1.94  0.047  0.052     -0.0     -0.0     -0.0     -0.0\n",
       "X15           -0.0           -0.0    0.0    0.0 -2.068  -2.035  0.039  0.042     -0.0     -0.0     -0.0     -0.0\n",
       "X16            0.0           -0.0    0.0    0.0   1.99  -0.576  0.047  0.564      0.0     -0.0      0.0      0.0\n",
       "X17           -0.0            0.0    0.0    0.0 -2.642   2.068  0.008  0.039     -0.0      0.0     -0.0      0.0\n",
       "X18           -0.0           -0.0    0.0    0.0 -2.126  -1.871  0.033  0.061     -0.0     -0.0     -0.0     -0.0\n",
       "X19           -0.0           -0.0    0.0    0.0 -4.584 -20.326    0.0    0.0     -0.0     -0.0     -0.0     -0.0\n",
       "X20           -0.0           -0.0    0.0    0.0 -0.537  -1.535  0.591  0.125     -0.0     -0.0      0.0      0.0\n",
       "X21         -0.001          0.007    0.0  0.006 -2.975   1.194  0.003  0.232   -0.001   -0.003     -0.0    0.016\n",
       "X22            0.0           -0.0    0.0    0.0   3.87  -1.158    0.0  0.247      0.0     -0.0      0.0      0.0\n",
       "X23           -0.0           -0.0    0.0    0.0 -1.042  -2.635  0.297  0.008     -0.0     -0.0      0.0     -0.0\n",
       "                                                 CATE Intercept Results                                                 \n",
       "========================================================================================================================\n",
       "               point_estimate point_estimate stderr stderr zstat zstat pvalue pvalue ci_lower ci_lower ci_upper ci_upper\n",
       "                     T0             T1         T0     T1     T0    T1    T0     T1      T0       T1       T0       T1   \n",
       "------------------------------------------------------------------------------------------------------------------------\n",
       "cate_intercept          0.015          0.098  0.002  0.018 8.918 5.455    0.0    0.0    0.012    0.069    0.018    0.128\n",
       "------------------------------------------------------------------------------------------------------------------------\n",
       "\n",
       "<sub>A linear parametric conditional average treatment effect (CATE) model was fitted:\n",
       "$Y = \\Theta(X)\\cdot T + g(X, W) + \\epsilon$\n",
       "where for every outcome $i$ and treatment $j$ the CATE $\\Theta_{ij}(X)$ has the form:\n",
       "$\\Theta_{ij}(X) = \\phi(X)' coef_{ij} + cate\\_intercept_{ij}$\n",
       "where $\\phi(X)$ is the output of the `featurizer` or $X$ if `featurizer`=None. Coefficient Results table portrays the $coef_{ij}$ parameter vector for each outcome $i$ and treatment $j$. Intercept Results table portrays the $cate\\_intercept_{ij}$ parameter.</sub>\n",
       "\"\"\""
      ]
     },
     "execution_count": 53,
     "metadata": {},
     "output_type": "execute_result"
    }
   ],
   "source": [
    "#te_pred = est.effect(X_val)\n",
    "est.summary()\n",
    "#a = est.const_marginal_effect(X_val)\n",
    "#len(a)"
   ]
  },
  {
   "cell_type": "code",
   "execution_count": 58,
   "metadata": {},
   "outputs": [
    {
     "data": {
      "text/plain": [
       "array([[[0.0152529 , 0.09809249]],\n",
       "\n",
       "       [[0.01510758, 0.09985407]],\n",
       "\n",
       "       [[0.0152529 , 0.09809249]],\n",
       "\n",
       "       ...,\n",
       "\n",
       "       [[0.01540649, 0.09468163]],\n",
       "\n",
       "       [[0.01523084, 0.09880719]],\n",
       "\n",
       "       [[0.01510112, 0.10144839]]])"
      ]
     },
     "execution_count": 58,
     "metadata": {},
     "output_type": "execute_result"
    }
   ],
   "source": [
    "a = est.const_marginal_effect(X_val) \n",
    "a"
   ]
  }
 ],
 "metadata": {
  "kernelspec": {
   "display_name": "Python 3",
   "language": "python",
   "name": "python3"
  },
  "language_info": {
   "codemirror_mode": {
    "name": "ipython",
    "version": 3
   },
   "file_extension": ".py",
   "mimetype": "text/x-python",
   "name": "python",
   "nbconvert_exporter": "python",
   "pygments_lexer": "ipython3",
   "version": "3.6.6"
  }
 },
 "nbformat": 4,
 "nbformat_minor": 2
}
