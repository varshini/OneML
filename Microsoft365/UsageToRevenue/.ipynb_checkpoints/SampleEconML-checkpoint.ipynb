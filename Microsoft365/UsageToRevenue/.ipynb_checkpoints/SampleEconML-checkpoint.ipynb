{
 "cells": [
  {
   "cell_type": "code",
   "execution_count": 1,
   "metadata": {},
   "outputs": [
    {
     "name": "stderr",
     "output_type": "stream",
     "text": [
      "C:\\Users\\varamase\\AppData\\Local\\Continuum\\anaconda3\\lib\\site-packages\\sklearn\\utils\\deprecation.py:144: FutureWarning: The sklearn.ensemble.forest module is  deprecated in version 0.22 and will be removed in version 0.24. The corresponding classes / functions should instead be imported from sklearn.ensemble. Anything that cannot be imported from sklearn.ensemble is now part of the private API.\n",
      "  warnings.warn(message, FutureWarning)\n"
     ]
    }
   ],
   "source": [
    "from econml.dml import LinearDML\n",
    "from sklearn.linear_model import LassoCV"
   ]
  },
  {
   "cell_type": "code",
   "execution_count": 15,
   "metadata": {},
   "outputs": [],
   "source": [
    "import pandas as pd\n",
    "df = pd.read_csv(r'C:\\Users\\varamase\\OneDrive - Microsoft\\UsageToRevenue\\Licenses.csv')"
   ]
  },
  {
   "cell_type": "code",
   "execution_count": 16,
   "metadata": {},
   "outputs": [],
   "source": [
    "df_122020 = df[df['Date'] == '12/31/2020 12:00:00 AM']\n",
    "df.fillna(0,inplace=True)"
   ]
  },
  {
   "cell_type": "code",
   "execution_count": 17,
   "metadata": {},
   "outputs": [],
   "source": [
    "#Outcome - M365E5Seats, Treatment - M365E3Seats, confounders - rest\n",
    "#Single Treatment, Single Outcome\n",
    "Y = df[['M365E5Seats']]\n",
    "T = df[['M365E3Seats']]\n",
    "X = df.drop(columns = ['TPID', 'Date', 'M365E5Seats', 'M365E3Seats'])"
   ]
  },
  {
   "cell_type": "code",
   "execution_count": 18,
   "metadata": {},
   "outputs": [],
   "source": [
    "from sklearn.model_selection import train_test_split\n",
    "Y_train, Y_val, T_train, T_val, X_train, X_val = train_test_split(Y, T, X, test_size=.2)"
   ]
  },
  {
   "cell_type": "code",
   "execution_count": null,
   "metadata": {
    "scrolled": true
   },
   "outputs": [
    {
     "name": "stderr",
     "output_type": "stream",
     "text": [
      "C:\\Users\\varamase\\AppData\\Local\\Continuum\\anaconda3\\lib\\site-packages\\econml\\utilities.py:821: DataConversionWarning: A column-vector y was passed when a 1d array was expected. Please change the shape of y to (n_samples,), for example using ravel().\n",
      "  return model.fit(X, y, **kwargs)\n",
      "C:\\Users\\varamase\\AppData\\Local\\Continuum\\anaconda3\\lib\\site-packages\\econml\\utilities.py:821: DataConversionWarning: A column-vector y was passed when a 1d array was expected. Please change the shape of y to (n_samples,), for example using ravel().\n",
      "  return model.fit(X, y, **kwargs)\n"
     ]
    }
   ],
   "source": [
    "# Directly using econml\n",
    "from sklearn.ensemble import RandomForestRegressor,RandomForestClassifier\n",
    "est = LinearDML(model_y=RandomForestRegressor(),\n",
    "                model_t=RandomForestRegressor(),\n",
    "                random_state=123)\n",
    "est.fit(Y = Y_train, T = T_train, X=X_train)\n",
    "te_pred = est.effect(X_test)"
   ]
  },
  {
   "cell_type": "code",
   "execution_count": null,
   "metadata": {},
   "outputs": [],
   "source": [
    "est.summary()\n",
    "plt.plot(X_test, te_pred, label='DML default')"
   ]
  },
  {
   "cell_type": "code",
   "execution_count": null,
   "metadata": {},
   "outputs": [],
   "source": [
    "# Using my own models\n",
    "model1 = GradientBoostingRegressor(n_estimators=100, max_depth=3, min_samples_leaf=20)\n",
    "model2 = GradientBoostingRegressor(n_estimators=100, max_depth=3, min_samples_leaf=20)\n",
    "\n",
    "est = LinearDML(model_y=model1(),\n",
    "                model_t=model2(),\n",
    "                random_state=123)\n",
    "est.fit(Y = Y_train, T = T_train, X=X_train)\n",
    "te_pred = est.effect(X_test)\n",
    "est.summary()\n",
    "plt.plot(X_test, te_pred, label='DML default')"
   ]
  },
  {
   "cell_type": "code",
   "execution_count": null,
   "metadata": {},
   "outputs": [],
   "source": [
    "#Multiple treatments, single outcome \n",
    "Y = df[['M365E5Seats']]\n",
    "T = df[['M365E3Seats', 'M365F1Seats']]\n",
    "X = df.drop(columns = ['TPID', 'Date', 'M365E5Seats', 'M365E3Seats', 'M365F1Seats'])\n",
    "\n",
    "from sklearn.model_selection import train_test_split\n",
    "Y_train, Y_val, T_train, T_val, X_train, X_val = train_test_split(Y, T, X, test_size=.2)"
   ]
  },
  {
   "cell_type": "code",
   "execution_count": null,
   "metadata": {},
   "outputs": [],
   "source": [
    "from sklearn.ensemble import RandomForestRegressor,RandomForestClassifier\n",
    "est = LinearDML(model_y=RandomForestRegressor(),\n",
    "                model_t=RandomForestRegressor(),\n",
    "                random_state=123)\n",
    "est.fit(Y = Y_train, T = T_train, X=X_train)\n",
    "te_pred = est.effect(X_test)\n",
    "\n",
    "est.summary()\n",
    "plt.plot(X_test, te_pred, label='DML default')"
   ]
  }
 ],
 "metadata": {
  "kernelspec": {
   "display_name": "Python 3",
   "language": "python",
   "name": "python3"
  },
  "language_info": {
   "codemirror_mode": {
    "name": "ipython",
    "version": 3
   },
   "file_extension": ".py",
   "mimetype": "text/x-python",
   "name": "python",
   "nbconvert_exporter": "python",
   "pygments_lexer": "ipython3",
   "version": "3.6.6"
  }
 },
 "nbformat": 4,
 "nbformat_minor": 2
}
