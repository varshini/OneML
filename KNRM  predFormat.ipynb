{
 "cells": [
  {
   "cell_type": "code",
   "execution_count": 3,
   "metadata": {},
   "outputs": [],
   "source": [
    "import csv\n",
    "from collections import defaultdict\n",
    "\n",
    "top1000 =  open(\"C:\\\\Users\\\\mapyredd\\\\Documents\\\\marco\\\\data\\\\top1000.eval.tsv\", \"r\", encoding=\"UTF8\")\n",
    "top1000_reader = csv.reader(top1000, delimiter = '\\t')\n",
    "\n",
    "scorefile = open(\"C:\\\\Users\\\\mapyredd\\\\Documents\\\\marco\\\\data\\\\output\\\\knrm_glove_lr_0005.scores\", \"r\")\n",
    "query_id_scores = defaultdict(list)\n",
    "\n",
    "for row1, row2 in zip(top1000_reader, scorefile.readlines()):\n",
    "    qid = int(row1[0])\n",
    "    docid = int(row1[1])\n",
    "    score = float(row2.strip())\n",
    "    query_id_scores[qid].append((docid, score))"
   ]
  },
  {
   "cell_type": "code",
   "execution_count": 5,
   "metadata": {},
   "outputs": [
    {
     "name": "stdout",
     "output_type": "stream",
     "text": [
      "68203\n"
     ]
    }
   ],
   "source": [
    "outputFile = \"C:\\\\Users\\\\mapyredd\\\\Documents\\\\marco\\\\data\\\\output\\\\knrm_glove_lr_0005.scores.trec\"\n",
    "fw = open(outputFile, \"w\")\n",
    "count_qid = 0\n",
    "for query_id in query_id_scores.keys():\n",
    "    query_id_scores[query_id] = sorted(query_id_scores[query_id], key=lambda x:x[1], reverse=True)[:10]\n",
    "    count = 1\n",
    "    for doc_id, score in query_id_scores[query_id]:\n",
    "        fw.write(str(query_id) + \"\\t\" + str(doc_id) + \"\\t\" + str(count) + \"\\n\")\n",
    "        count += 1\n",
    "        count_qid += 1\n",
    "fw.flush()\n",
    "print (count_qid)"
   ]
  },
  {
   "cell_type": "code",
   "execution_count": 7,
   "metadata": {},
   "outputs": [
    {
     "data": {
      "text/plain": [
       "[(8673342, 0.700011491776),\n",
       " (2415264, 0.603087067604),\n",
       " (8673343, 0.0359973274171),\n",
       " (8673338, -0.158906564116),\n",
       " (8673339, -0.528942346573),\n",
       " (8673344, -0.807379126549),\n",
       " (8673341, -0.845029056072),\n",
       " (8673337, -0.916029572487)]"
      ]
     },
     "execution_count": 7,
     "metadata": {},
     "output_type": "execute_result"
    }
   ],
   "source": [
    "query_id_scores[864839]"
   ]
  },
  {
   "cell_type": "code",
   "execution_count": null,
   "metadata": {},
   "outputs": [],
   "source": []
  }
 ],
 "metadata": {
  "kernelspec": {
   "display_name": "Python 3",
   "language": "python",
   "name": "python3"
  },
  "language_info": {
   "codemirror_mode": {
    "name": "ipython",
    "version": 3
   },
   "file_extension": ".py",
   "mimetype": "text/x-python",
   "name": "python",
   "nbconvert_exporter": "python",
   "pygments_lexer": "ipython3",
   "version": "3.6.5"
  }
 },
 "nbformat": 4,
 "nbformat_minor": 2
}
