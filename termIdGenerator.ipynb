{
 "cells": [
  {
   "cell_type": "code",
   "execution_count": 1,
   "metadata": {},
   "outputs": [
    {
     "name": "stderr",
     "output_type": "stream",
     "text": [
      "C:\\Users\\mapyredd\\AppData\\Local\\Continuum\\anaconda2\\envs\\deeplearning\\lib\\site-packages\\gensim\\utils.py:1197: UserWarning: detected Windows; aliasing chunkize to chunkize_serial\n",
      "  warnings.warn(\"detected Windows; aliasing chunkize to chunkize_serial\")\n"
     ]
    }
   ],
   "source": [
    "import sys\n",
    "from importlib import reload\n",
    "import logging\n",
    "import csv\n",
    "import string\n",
    "import gensim\n",
    "import pickle\n",
    "\n",
    "\n",
    "logging.basicConfig(format='%(asctime)s : %(levelname)s : %(message)s', level=logging.INFO)\n",
    "\n",
    "def removeNonAscii(s):\n",
    "    return \"\".join(filter(lambda x:ord(x) < 128, s))\n",
    "\n",
    "\n",
    "def preprocess(passage):\n",
    "    clean_passage = passage.lower()\n",
    "    clean_passage = removeNonAscii(clean_passage)\n",
    "    clean_passage = clean_passage.translate(str.maketrans('', '', string.punctuation)) \n",
    "    \n",
    "    clean_passage_list = clean_passage.split()\n",
    "    clean_passage_list_sp = []\n",
    "    for word in clean_passage_list:\n",
    "        clean_passage_list_sp.append(word)\n",
    "    return clean_passage_list_sp"
   ]
  },
  {
   "cell_type": "code",
   "execution_count": 1,
   "metadata": {},
   "outputs": [
    {
     "name": "stderr",
     "output_type": "stream",
     "text": [
      "C:\\Users\\mapyredd\\AppData\\Local\\Continuum\\anaconda2\\envs\\deeplearning\\lib\\site-packages\\gensim\\utils.py:1197: UserWarning: detected Windows; aliasing chunkize to chunkize_serial\n",
      "  warnings.warn(\"detected Windows; aliasing chunkize to chunkize_serial\")\n"
     ]
    }
   ],
   "source": [
    "from gensim import corpora\n",
    "\n",
    "dictionary = corpora.Dictionary.load(\"C:\\\\Users\\\\mapyredd\\\\Documents\\\\marco\\\\data\\\\collection_cleaned_nostemming.dict\")"
   ]
  },
  {
   "cell_type": "code",
   "execution_count": 2,
   "metadata": {},
   "outputs": [
    {
     "name": "stdout",
     "output_type": "stream",
     "text": [
      "True\n",
      "True\n",
      "j\n",
      "2000664\n"
     ]
    }
   ],
   "source": [
    "\"achievement\"  in dictionary.token2id\n",
    "print(dictionary.token2id.get(\"14536\") != None)\n",
    "print(\"sadasd\" in dictionary.token2id)\n",
    "print(dictionary[14536])\n",
    "print(len(dictionary))"
   ]
  },
  {
   "cell_type": "code",
   "execution_count": 20,
   "metadata": {},
   "outputs": [],
   "source": [
    "import csv\n",
    "\n",
    "collection_filename = \"C:\\\\Users\\\\mapyredd\\\\Documents\\\\marco\\\\data\\\\collection_cleaned_nostemming.tsv\"\n",
    "collection_termid_filename = \"C:\\\\Users\\\\mapyredd\\\\Documents\\\\marco\\\\data\\\\collection_cleaned_nostemming_termids.tsv\"\n",
    "csv_readfile = open(collection_filename)\n",
    "csv_writefile = open(collection_termid_filename, \"w\")\n",
    "reader = csv.reader(csv_readfile, delimiter=\"\\t\")\n",
    "for row in reader:\n",
    "    doc_id, passage = row\n",
    "    doc_term_ids = []\n",
    "    for term in passage.split():\n",
    "        if dictionary.token2id.get(term) != None:\n",
    "            doc_term_ids.append(str(dictionary.token2id[term]))\n",
    "        else:\n",
    "            doc_term_ids.append(str(-1))\n",
    "    csv_writefile.write(str(doc_id) + \"\\t\" + \",\".join(doc_term_ids) + \"\\n\")"
   ]
  },
  {
   "cell_type": "code",
   "execution_count": 25,
   "metadata": {},
   "outputs": [],
   "source": [
    "import csv\n",
    "\n",
    "collection_filename = \"C:\\\\Users\\\\mapyredd\\\\Documents\\\\marco\\\\data\\\\queries.eval.tsv\"\n",
    "collection_termid_filename = \"C:\\\\Users\\\\mapyredd\\\\Documents\\\\marco\\\\data\\\\queries_termids.eval.tsv\"\n",
    "csv_readfile = open(collection_filename, \"r\", encoding=\"UTF8\")\n",
    "csv_writefile = open(collection_termid_filename, \"w\")\n",
    "reader = csv.reader(csv_readfile, delimiter=\"\\t\")\n",
    "for row in reader:\n",
    "    doc_id, passage = row\n",
    "    doc_term_ids = []\n",
    "    for term in preprocess(passage):\n",
    "        if dictionary.token2id.get(term) != None:\n",
    "            doc_term_ids.append(str(dictionary.token2id[term]))\n",
    "        else:\n",
    "            doc_term_ids.append(str(-1))\n",
    "    csv_writefile.write(str(doc_id) + \"\\t\" + \",\".join(doc_term_ids) + \"\\n\")"
   ]
  },
  {
   "cell_type": "code",
   "execution_count": 16,
   "metadata": {},
   "outputs": [
    {
     "data": {
      "text/plain": [
       "337"
      ]
     },
     "execution_count": 16,
     "metadata": {},
     "output_type": "execute_result"
    }
   ],
   "source": [
    "len(gensim.parsing.preprocessing.STOPWORDS)"
   ]
  }
 ],
 "metadata": {
  "kernelspec": {
   "display_name": "Python 3",
   "language": "python",
   "name": "python3"
  },
  "language_info": {
   "codemirror_mode": {
    "name": "ipython",
    "version": 3
   },
   "file_extension": ".py",
   "mimetype": "text/x-python",
   "name": "python",
   "nbconvert_exporter": "python",
   "pygments_lexer": "ipython3",
   "version": "3.6.5"
  }
 },
 "nbformat": 4,
 "nbformat_minor": 2
}
